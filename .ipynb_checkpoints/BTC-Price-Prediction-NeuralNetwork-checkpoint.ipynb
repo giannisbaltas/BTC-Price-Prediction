{
 "cells": [
  {
   "cell_type": "markdown",
   "id": "978664c9",
   "metadata": {},
   "source": [
    "### Importing Needed packages"
   ]
  },
  {
   "cell_type": "code",
   "execution_count": 1,
   "id": "0dc3b4ba",
   "metadata": {},
   "outputs": [],
   "source": [
    "import pandas as pd\n",
    "import matplotlib.pyplot as plt\n",
    "import pylab as pl\n",
    "import numpy as np\n",
    "import seaborn as sns\n",
    "import scipy.optimize as opt\n",
    "from sklearn.preprocessing import MinMaxScaler\n",
    "from sklearn.model_selection import train_test_split\n",
    "from sklearn.impute import SimpleImputer\n",
    "%matplotlib inline"
   ]
  },
  {
   "cell_type": "markdown",
   "id": "aa063a30",
   "metadata": {},
   "source": [
    "### Reading the Data in\n",
    "The last 5 years given by Yahoo Finance are from 09/11/2017 to Present(29/12/2021)"
   ]
  },
  {
   "cell_type": "code",
   "execution_count": 2,
   "id": "cc655674",
   "metadata": {
    "scrolled": false
   },
   "outputs": [
    {
     "data": {
      "text/html": [
       "<div>\n",
       "<style scoped>\n",
       "    .dataframe tbody tr th:only-of-type {\n",
       "        vertical-align: middle;\n",
       "    }\n",
       "\n",
       "    .dataframe tbody tr th {\n",
       "        vertical-align: top;\n",
       "    }\n",
       "\n",
       "    .dataframe thead th {\n",
       "        text-align: right;\n",
       "    }\n",
       "</style>\n",
       "<table border=\"1\" class=\"dataframe\">\n",
       "  <thead>\n",
       "    <tr style=\"text-align: right;\">\n",
       "      <th></th>\n",
       "      <th>Date</th>\n",
       "      <th>Open</th>\n",
       "      <th>High</th>\n",
       "      <th>Low</th>\n",
       "      <th>Close</th>\n",
       "      <th>Adj Close</th>\n",
       "      <th>Volume</th>\n",
       "    </tr>\n",
       "  </thead>\n",
       "  <tbody>\n",
       "    <tr>\n",
       "      <th>0</th>\n",
       "      <td>2017-11-09</td>\n",
       "      <td>7446.830078</td>\n",
       "      <td>7446.830078</td>\n",
       "      <td>7101.520020</td>\n",
       "      <td>7143.580078</td>\n",
       "      <td>7143.580078</td>\n",
       "      <td>3226249984</td>\n",
       "    </tr>\n",
       "    <tr>\n",
       "      <th>1</th>\n",
       "      <td>2017-11-10</td>\n",
       "      <td>7173.729980</td>\n",
       "      <td>7312.000000</td>\n",
       "      <td>6436.870117</td>\n",
       "      <td>6618.140137</td>\n",
       "      <td>6618.140137</td>\n",
       "      <td>5208249856</td>\n",
       "    </tr>\n",
       "    <tr>\n",
       "      <th>2</th>\n",
       "      <td>2017-11-11</td>\n",
       "      <td>6618.609863</td>\n",
       "      <td>6873.149902</td>\n",
       "      <td>6204.220215</td>\n",
       "      <td>6357.600098</td>\n",
       "      <td>6357.600098</td>\n",
       "      <td>4908680192</td>\n",
       "    </tr>\n",
       "    <tr>\n",
       "      <th>3</th>\n",
       "      <td>2017-11-12</td>\n",
       "      <td>6295.450195</td>\n",
       "      <td>6625.049805</td>\n",
       "      <td>5519.009766</td>\n",
       "      <td>5950.069824</td>\n",
       "      <td>5950.069824</td>\n",
       "      <td>8957349888</td>\n",
       "    </tr>\n",
       "    <tr>\n",
       "      <th>4</th>\n",
       "      <td>2017-11-13</td>\n",
       "      <td>5938.250000</td>\n",
       "      <td>6811.189941</td>\n",
       "      <td>5844.290039</td>\n",
       "      <td>6559.490234</td>\n",
       "      <td>6559.490234</td>\n",
       "      <td>6263249920</td>\n",
       "    </tr>\n",
       "    <tr>\n",
       "      <th>...</th>\n",
       "      <td>...</td>\n",
       "      <td>...</td>\n",
       "      <td>...</td>\n",
       "      <td>...</td>\n",
       "      <td>...</td>\n",
       "      <td>...</td>\n",
       "      <td>...</td>\n",
       "    </tr>\n",
       "    <tr>\n",
       "      <th>1507</th>\n",
       "      <td>2021-12-25</td>\n",
       "      <td>50854.917969</td>\n",
       "      <td>51176.597656</td>\n",
       "      <td>50236.707031</td>\n",
       "      <td>50429.859375</td>\n",
       "      <td>50429.859375</td>\n",
       "      <td>19030650914</td>\n",
       "    </tr>\n",
       "    <tr>\n",
       "      <th>1508</th>\n",
       "      <td>2021-12-26</td>\n",
       "      <td>50428.691406</td>\n",
       "      <td>51196.378906</td>\n",
       "      <td>49623.105469</td>\n",
       "      <td>50809.515625</td>\n",
       "      <td>50809.515625</td>\n",
       "      <td>20964372926</td>\n",
       "    </tr>\n",
       "    <tr>\n",
       "      <th>1509</th>\n",
       "      <td>2021-12-27</td>\n",
       "      <td>50802.609375</td>\n",
       "      <td>51956.328125</td>\n",
       "      <td>50499.468750</td>\n",
       "      <td>50640.417969</td>\n",
       "      <td>50640.417969</td>\n",
       "      <td>24324345758</td>\n",
       "    </tr>\n",
       "    <tr>\n",
       "      <th>1510</th>\n",
       "      <td>2021-12-28</td>\n",
       "      <td>50679.859375</td>\n",
       "      <td>50679.859375</td>\n",
       "      <td>47414.210938</td>\n",
       "      <td>47588.855469</td>\n",
       "      <td>47588.855469</td>\n",
       "      <td>33430376883</td>\n",
       "    </tr>\n",
       "    <tr>\n",
       "      <th>1511</th>\n",
       "      <td>2021-12-29</td>\n",
       "      <td>47576.855469</td>\n",
       "      <td>48101.585938</td>\n",
       "      <td>46730.207031</td>\n",
       "      <td>46854.156250</td>\n",
       "      <td>46854.156250</td>\n",
       "      <td>30502799360</td>\n",
       "    </tr>\n",
       "  </tbody>\n",
       "</table>\n",
       "<p>1512 rows × 7 columns</p>\n",
       "</div>"
      ],
      "text/plain": [
       "            Date          Open          High           Low         Close  \\\n",
       "0     2017-11-09   7446.830078   7446.830078   7101.520020   7143.580078   \n",
       "1     2017-11-10   7173.729980   7312.000000   6436.870117   6618.140137   \n",
       "2     2017-11-11   6618.609863   6873.149902   6204.220215   6357.600098   \n",
       "3     2017-11-12   6295.450195   6625.049805   5519.009766   5950.069824   \n",
       "4     2017-11-13   5938.250000   6811.189941   5844.290039   6559.490234   \n",
       "...          ...           ...           ...           ...           ...   \n",
       "1507  2021-12-25  50854.917969  51176.597656  50236.707031  50429.859375   \n",
       "1508  2021-12-26  50428.691406  51196.378906  49623.105469  50809.515625   \n",
       "1509  2021-12-27  50802.609375  51956.328125  50499.468750  50640.417969   \n",
       "1510  2021-12-28  50679.859375  50679.859375  47414.210938  47588.855469   \n",
       "1511  2021-12-29  47576.855469  48101.585938  46730.207031  46854.156250   \n",
       "\n",
       "         Adj Close       Volume  \n",
       "0      7143.580078   3226249984  \n",
       "1      6618.140137   5208249856  \n",
       "2      6357.600098   4908680192  \n",
       "3      5950.069824   8957349888  \n",
       "4      6559.490234   6263249920  \n",
       "...            ...          ...  \n",
       "1507  50429.859375  19030650914  \n",
       "1508  50809.515625  20964372926  \n",
       "1509  50640.417969  24324345758  \n",
       "1510  47588.855469  33430376883  \n",
       "1511  46854.156250  30502799360  \n",
       "\n",
       "[1512 rows x 7 columns]"
      ]
     },
     "execution_count": 2,
     "metadata": {},
     "output_type": "execute_result"
    }
   ],
   "source": [
    "df = pd.read_csv(\"btc-usd.csv\")\n",
    "\n",
    "# take a look at the dataset\n",
    "df"
   ]
  },
  {
   "cell_type": "code",
   "execution_count": 3,
   "id": "29744f9f",
   "metadata": {},
   "outputs": [],
   "source": [
    "history_points = 50"
   ]
  },
  {
   "cell_type": "code",
   "execution_count": 4,
   "id": "25793457",
   "metadata": {},
   "outputs": [],
   "source": [
    "df = df.drop('Date',axis=1)\n",
    "df = df.drop('Adj Close',axis=1)"
   ]
  },
  {
   "cell_type": "code",
   "execution_count": 5,
   "id": "4f59ebd8",
   "metadata": {},
   "outputs": [
    {
     "data": {
      "text/html": [
       "<div>\n",
       "<style scoped>\n",
       "    .dataframe tbody tr th:only-of-type {\n",
       "        vertical-align: middle;\n",
       "    }\n",
       "\n",
       "    .dataframe tbody tr th {\n",
       "        vertical-align: top;\n",
       "    }\n",
       "\n",
       "    .dataframe thead th {\n",
       "        text-align: right;\n",
       "    }\n",
       "</style>\n",
       "<table border=\"1\" class=\"dataframe\">\n",
       "  <thead>\n",
       "    <tr style=\"text-align: right;\">\n",
       "      <th></th>\n",
       "      <th>Open</th>\n",
       "      <th>High</th>\n",
       "      <th>Low</th>\n",
       "      <th>Close</th>\n",
       "      <th>Volume</th>\n",
       "    </tr>\n",
       "  </thead>\n",
       "  <tbody>\n",
       "    <tr>\n",
       "      <th>0</th>\n",
       "      <td>7446.830078</td>\n",
       "      <td>7446.830078</td>\n",
       "      <td>7101.520020</td>\n",
       "      <td>7143.580078</td>\n",
       "      <td>3226249984</td>\n",
       "    </tr>\n",
       "    <tr>\n",
       "      <th>1</th>\n",
       "      <td>7173.729980</td>\n",
       "      <td>7312.000000</td>\n",
       "      <td>6436.870117</td>\n",
       "      <td>6618.140137</td>\n",
       "      <td>5208249856</td>\n",
       "    </tr>\n",
       "    <tr>\n",
       "      <th>2</th>\n",
       "      <td>6618.609863</td>\n",
       "      <td>6873.149902</td>\n",
       "      <td>6204.220215</td>\n",
       "      <td>6357.600098</td>\n",
       "      <td>4908680192</td>\n",
       "    </tr>\n",
       "    <tr>\n",
       "      <th>3</th>\n",
       "      <td>6295.450195</td>\n",
       "      <td>6625.049805</td>\n",
       "      <td>5519.009766</td>\n",
       "      <td>5950.069824</td>\n",
       "      <td>8957349888</td>\n",
       "    </tr>\n",
       "    <tr>\n",
       "      <th>4</th>\n",
       "      <td>5938.250000</td>\n",
       "      <td>6811.189941</td>\n",
       "      <td>5844.290039</td>\n",
       "      <td>6559.490234</td>\n",
       "      <td>6263249920</td>\n",
       "    </tr>\n",
       "    <tr>\n",
       "      <th>...</th>\n",
       "      <td>...</td>\n",
       "      <td>...</td>\n",
       "      <td>...</td>\n",
       "      <td>...</td>\n",
       "      <td>...</td>\n",
       "    </tr>\n",
       "    <tr>\n",
       "      <th>1507</th>\n",
       "      <td>50854.917969</td>\n",
       "      <td>51176.597656</td>\n",
       "      <td>50236.707031</td>\n",
       "      <td>50429.859375</td>\n",
       "      <td>19030650914</td>\n",
       "    </tr>\n",
       "    <tr>\n",
       "      <th>1508</th>\n",
       "      <td>50428.691406</td>\n",
       "      <td>51196.378906</td>\n",
       "      <td>49623.105469</td>\n",
       "      <td>50809.515625</td>\n",
       "      <td>20964372926</td>\n",
       "    </tr>\n",
       "    <tr>\n",
       "      <th>1509</th>\n",
       "      <td>50802.609375</td>\n",
       "      <td>51956.328125</td>\n",
       "      <td>50499.468750</td>\n",
       "      <td>50640.417969</td>\n",
       "      <td>24324345758</td>\n",
       "    </tr>\n",
       "    <tr>\n",
       "      <th>1510</th>\n",
       "      <td>50679.859375</td>\n",
       "      <td>50679.859375</td>\n",
       "      <td>47414.210938</td>\n",
       "      <td>47588.855469</td>\n",
       "      <td>33430376883</td>\n",
       "    </tr>\n",
       "    <tr>\n",
       "      <th>1511</th>\n",
       "      <td>47576.855469</td>\n",
       "      <td>48101.585938</td>\n",
       "      <td>46730.207031</td>\n",
       "      <td>46854.156250</td>\n",
       "      <td>30502799360</td>\n",
       "    </tr>\n",
       "  </tbody>\n",
       "</table>\n",
       "<p>1512 rows × 5 columns</p>\n",
       "</div>"
      ],
      "text/plain": [
       "              Open          High           Low         Close       Volume\n",
       "0      7446.830078   7446.830078   7101.520020   7143.580078   3226249984\n",
       "1      7173.729980   7312.000000   6436.870117   6618.140137   5208249856\n",
       "2      6618.609863   6873.149902   6204.220215   6357.600098   4908680192\n",
       "3      6295.450195   6625.049805   5519.009766   5950.069824   8957349888\n",
       "4      5938.250000   6811.189941   5844.290039   6559.490234   6263249920\n",
       "...            ...           ...           ...           ...          ...\n",
       "1507  50854.917969  51176.597656  50236.707031  50429.859375  19030650914\n",
       "1508  50428.691406  51196.378906  49623.105469  50809.515625  20964372926\n",
       "1509  50802.609375  51956.328125  50499.468750  50640.417969  24324345758\n",
       "1510  50679.859375  50679.859375  47414.210938  47588.855469  33430376883\n",
       "1511  47576.855469  48101.585938  46730.207031  46854.156250  30502799360\n",
       "\n",
       "[1512 rows x 5 columns]"
      ]
     },
     "execution_count": 5,
     "metadata": {},
     "output_type": "execute_result"
    }
   ],
   "source": [
    "df"
   ]
  },
  {
   "cell_type": "code",
   "execution_count": 6,
   "id": "ef52172e",
   "metadata": {},
   "outputs": [],
   "source": [
    "data_normaliser = MinMaxScaler()\n",
    "data_normalised = data_normaliser.fit_transform(df)"
   ]
  },
  {
   "cell_type": "code",
   "execution_count": 7,
   "id": "193cfb2f",
   "metadata": {},
   "outputs": [
    {
     "data": {
      "text/plain": [
       "array([[0.06546927, 0.06367244, 0.06187956, 0.06073083, 0.00086937],\n",
       "       [0.06122288, 0.06161442, 0.05136141, 0.05256296, 0.00656405],\n",
       "       [0.0525914 , 0.05491587, 0.0476797 , 0.0485129 , 0.00570333],\n",
       "       ...,\n",
       "       [0.73960155, 0.74305899, 0.74865639, 0.73688182, 0.06148837],\n",
       "       [0.73769293, 0.72357515, 0.69983188, 0.68944579, 0.0876518 ],\n",
       "       [0.68944481, 0.68422076, 0.68900745, 0.67802502, 0.07924029]])"
      ]
     },
     "execution_count": 7,
     "metadata": {},
     "output_type": "execute_result"
    }
   ],
   "source": [
    "data_normalised"
   ]
  },
  {
   "cell_type": "code",
   "execution_count": 8,
   "id": "d4cbe013",
   "metadata": {},
   "outputs": [
    {
     "data": {
      "text/plain": [
       "0        7143.580078\n",
       "1        6618.140137\n",
       "2        6357.600098\n",
       "3        5950.069824\n",
       "4        6559.490234\n",
       "            ...     \n",
       "1507    50429.859375\n",
       "1508    50809.515625\n",
       "1509    50640.417969\n",
       "1510    47588.855469\n",
       "1511    46854.156250\n",
       "Name: Close, Length: 1512, dtype: float64"
      ]
     },
     "execution_count": 8,
     "metadata": {},
     "output_type": "execute_result"
    }
   ],
   "source": [
    "df.iloc[:,3]"
   ]
  },
  {
   "cell_type": "code",
   "execution_count": 9,
   "id": "571d2cda",
   "metadata": {},
   "outputs": [],
   "source": [
    "# using the last {history_points} open high low close volume data points, predict the next open value\n",
    "ohlcv_histories_normalised = np.array([data_normalised[i  : i + history_points].copy() for i in range(len(data_normalised) - history_points)])\n",
    "next_day_close_values_normalised = np.array([data_normalised[:,3][i + history_points].copy() for i in range(len(data_normalised) - history_points)])\n",
    "next_day_close_values_normalised = np.expand_dims(next_day_close_values_normalised, -1)\n",
    "\n",
    "next_day_close_values = np.array([df.iloc[:,3][i + history_points].copy() for i in range(len(df) - history_points)])\n",
    "next_day_close_values = np.expand_dims(next_day_close_values, -1)"
   ]
  },
  {
   "cell_type": "code",
   "execution_count": 10,
   "id": "9cfc1fd5",
   "metadata": {},
   "outputs": [
    {
     "data": {
      "text/plain": [
       "MinMaxScaler()"
      ]
     },
     "execution_count": 10,
     "metadata": {},
     "output_type": "execute_result"
    }
   ],
   "source": [
    "y_normaliser = MinMaxScaler()\n",
    "y_normaliser.fit(next_day_close_values)"
   ]
  },
  {
   "cell_type": "code",
   "execution_count": 11,
   "id": "08ba87ad",
   "metadata": {},
   "outputs": [],
   "source": [
    "test_split = 0.8 # the percent of data to be used for testing\n",
    "n = int(ohlcv_histories_normalised.shape[0] * test_split)"
   ]
  },
  {
   "cell_type": "code",
   "execution_count": 12,
   "id": "41fa93f1",
   "metadata": {},
   "outputs": [],
   "source": [
    "X_train = ohlcv_histories_normalised[:n]\n",
    "y_train = next_day_close_values_normalised[:n]\n",
    "\n",
    "X_test = ohlcv_histories_normalised[n:]\n",
    "y_test = next_day_close_values_normalised[n:]\n",
    "\n",
    "unscaled_y_test = next_day_close_values[n:]"
   ]
  },
  {
   "cell_type": "code",
   "execution_count": 13,
   "id": "1458af09",
   "metadata": {},
   "outputs": [],
   "source": [
    "import keras\n",
    "import tensorflow as tf\n",
    "from keras.models import Model,Sequential\n",
    "from keras.layers import Dense, Dropout, LSTM, Input, Activation, concatenate\n",
    "from keras import optimizers"
   ]
  },
  {
   "cell_type": "code",
   "execution_count": 15,
   "id": "91de2910",
   "metadata": {},
   "outputs": [
    {
     "data": {
      "image/png": "[encoded data removed]",
      "text/plain": [
       "<IPython.core.display.Image object>"
      ]
     },
     "execution_count": 15,
     "metadata": {},
     "output_type": "execute_result"
    }
   ],
   "source": [
    "np.random.seed(4)\n",
    "tf.random.set_seed(4) \n",
    "\n",
    "lstm_input = Input(shape=(history_points, 5), name='lstm_input')\n",
    "x = LSTM(50, name='lstm_0')(lstm_input)\n",
    "x = Dropout(0.2, name='lstm_dropout_0')(x)\n",
    "x = Dense(64, name='dense_0')(x)\n",
    "x = Activation('sigmoid', name='sigmoid_0')(x)\n",
    "x = Dense(1, name='dense_1')(x)\n",
    "output = Activation('linear', name='linear_output')(x)\n",
    "model = Model(inputs=lstm_input, outputs=output)\n",
    "\n",
    "adam = optimizers.Adam(lr=0.0005)\n",
    "\n",
    "model.compile(optimizer=adam, loss='mse')\n",
    "\n",
    "from keras.utils import plot_model\n",
    "plot_model(model, show_shapes=True, show_layer_names=True)"
   ]
  },
  {
   "cell_type": "code",
   "execution_count": 16,
   "id": "9dbf2597",
   "metadata": {
    "scrolled": true
   },
   "outputs": [
    {
     "name": "stdout",
     "output_type": "stream",
     "text": [
      "Epoch 1/100\n",
      "33/33 [==============================] - 1s 28ms/step - loss: 0.0632 - val_loss: 0.5289\n",
      "Epoch 2/100\n",
      "33/33 [==============================] - 0s 14ms/step - loss: 0.0040 - val_loss: 0.3133\n",
      "Epoch 3/100\n",
      "33/33 [==============================] - 0s 13ms/step - loss: 0.0029 - val_loss: 0.2759\n",
      "Epoch 4/100\n",
      "33/33 [==============================] - 0s 13ms/step - loss: 0.0025 - val_loss: 0.2418\n",
      "Epoch 5/100\n",
      "33/33 [==============================] - 0s 13ms/step - loss: 0.0021 - val_loss: 0.2137\n",
      "Epoch 6/100\n",
      "33/33 [==============================] - 0s 14ms/step - loss: 0.0018 - val_loss: 0.1799\n",
      "Epoch 7/100\n",
      "33/33 [==============================] - 0s 13ms/step - loss: 0.0014 - val_loss: 0.1158\n",
      "Epoch 8/100\n",
      "33/33 [==============================] - 0s 13ms/step - loss: 5.8178e-04 - val_loss: 0.0353\n",
      "Epoch 9/100\n",
      "33/33 [==============================] - 0s 13ms/step - loss: 2.7541e-04 - val_loss: 0.0374\n",
      "Epoch 10/100\n",
      "33/33 [==============================] - 0s 13ms/step - loss: 2.4869e-04 - val_loss: 0.0344\n",
      "Epoch 11/100\n",
      "33/33 [==============================] - 0s 13ms/step - loss: 2.2804e-04 - val_loss: 0.0323\n",
      "Epoch 12/100\n",
      "33/33 [==============================] - 0s 13ms/step - loss: 2.2154e-04 - val_loss: 0.0311\n",
      "Epoch 13/100\n",
      "33/33 [==============================] - 0s 13ms/step - loss: 1.9928e-04 - val_loss: 0.0259\n",
      "Epoch 14/100\n",
      "33/33 [==============================] - 0s 13ms/step - loss: 2.1298e-04 - val_loss: 0.0226\n",
      "Epoch 15/100\n",
      "33/33 [==============================] - 0s 13ms/step - loss: 1.8151e-04 - val_loss: 0.0206\n",
      "Epoch 16/100\n",
      "33/33 [==============================] - 0s 13ms/step - loss: 1.8120e-04 - val_loss: 0.0202\n",
      "Epoch 17/100\n",
      "33/33 [==============================] - 0s 13ms/step - loss: 1.6338e-04 - val_loss: 0.0179\n",
      "Epoch 18/100\n",
      "33/33 [==============================] - 0s 13ms/step - loss: 1.5722e-04 - val_loss: 0.0179\n",
      "Epoch 19/100\n",
      "33/33 [==============================] - 0s 13ms/step - loss: 1.4982e-04 - val_loss: 0.0155\n",
      "Epoch 20/100\n",
      "33/33 [==============================] - 0s 13ms/step - loss: 1.5176e-04 - val_loss: 0.0131\n",
      "Epoch 21/100\n",
      "33/33 [==============================] - 0s 13ms/step - loss: 1.4573e-04 - val_loss: 0.0139\n",
      "Epoch 22/100\n",
      "33/33 [==============================] - 0s 13ms/step - loss: 1.4694e-04 - val_loss: 0.0104\n",
      "Epoch 23/100\n",
      "33/33 [==============================] - 0s 13ms/step - loss: 1.3676e-04 - val_loss: 0.0100\n",
      "Epoch 24/100\n",
      "33/33 [==============================] - 0s 14ms/step - loss: 1.3095e-04 - val_loss: 0.0103\n",
      "Epoch 25/100\n",
      "33/33 [==============================] - 0s 14ms/step - loss: 1.4538e-04 - val_loss: 0.0088\n",
      "Epoch 26/100\n",
      "33/33 [==============================] - 0s 13ms/step - loss: 1.1618e-04 - val_loss: 0.0091\n",
      "Epoch 27/100\n",
      "33/33 [==============================] - 0s 13ms/step - loss: 1.1772e-04 - val_loss: 0.0070\n",
      "Epoch 28/100\n",
      "33/33 [==============================] - 0s 13ms/step - loss: 1.2466e-04 - val_loss: 0.0077\n",
      "Epoch 29/100\n",
      "33/33 [==============================] - 0s 13ms/step - loss: 1.1952e-04 - val_loss: 0.0064\n",
      "Epoch 30/100\n",
      "33/33 [==============================] - 0s 13ms/step - loss: 1.1949e-04 - val_loss: 0.0057\n",
      "Epoch 31/100\n",
      "33/33 [==============================] - 0s 13ms/step - loss: 1.1468e-04 - val_loss: 0.0057\n",
      "Epoch 32/100\n",
      "33/33 [==============================] - 0s 13ms/step - loss: 1.1305e-04 - val_loss: 0.0064\n",
      "Epoch 33/100\n",
      "33/33 [==============================] - 0s 13ms/step - loss: 1.1232e-04 - val_loss: 0.0051\n",
      "Epoch 34/100\n",
      "33/33 [==============================] - 0s 13ms/step - loss: 1.0899e-04 - val_loss: 0.0049\n",
      "Epoch 35/100\n",
      "33/33 [==============================] - 0s 13ms/step - loss: 1.1325e-04 - val_loss: 0.0056\n",
      "Epoch 36/100\n",
      "33/33 [==============================] - 0s 13ms/step - loss: 1.0957e-04 - val_loss: 0.0055\n",
      "Epoch 37/100\n",
      "33/33 [==============================] - 0s 13ms/step - loss: 1.1364e-04 - val_loss: 0.0042\n",
      "Epoch 38/100\n",
      "33/33 [==============================] - 0s 13ms/step - loss: 9.9228e-05 - val_loss: 0.0038\n",
      "Epoch 39/100\n",
      "33/33 [==============================] - 0s 13ms/step - loss: 1.0188e-04 - val_loss: 0.0048\n",
      "Epoch 40/100\n",
      "33/33 [==============================] - 0s 13ms/step - loss: 9.8886e-05 - val_loss: 0.0043\n",
      "Epoch 41/100\n",
      "33/33 [==============================] - 0s 14ms/step - loss: 1.0305e-04 - val_loss: 0.0041\n",
      "Epoch 42/100\n",
      "33/33 [==============================] - 0s 13ms/step - loss: 9.3745e-05 - val_loss: 0.0037\n",
      "Epoch 43/100\n",
      "33/33 [==============================] - 0s 13ms/step - loss: 1.0085e-04 - val_loss: 0.0035\n",
      "Epoch 44/100\n",
      "33/33 [==============================] - 0s 13ms/step - loss: 1.0148e-04 - val_loss: 0.0038\n",
      "Epoch 45/100\n",
      "33/33 [==============================] - 0s 13ms/step - loss: 9.7153e-05 - val_loss: 0.0037\n",
      "Epoch 46/100\n",
      "33/33 [==============================] - 0s 13ms/step - loss: 9.2445e-05 - val_loss: 0.0036\n",
      "Epoch 47/100\n",
      "33/33 [==============================] - 0s 13ms/step - loss: 9.1882e-05 - val_loss: 0.0026\n",
      "Epoch 48/100\n",
      "33/33 [==============================] - 0s 13ms/step - loss: 9.4623e-05 - val_loss: 0.0035\n",
      "Epoch 49/100\n",
      "33/33 [==============================] - 0s 13ms/step - loss: 9.1017e-05 - val_loss: 0.0033\n",
      "Epoch 50/100\n",
      "33/33 [==============================] - 0s 13ms/step - loss: 8.5281e-05 - val_loss: 0.0036\n",
      "Epoch 51/100\n",
      "33/33 [==============================] - 0s 13ms/step - loss: 9.5714e-05 - val_loss: 0.0039\n",
      "Epoch 52/100\n",
      "33/33 [==============================] - 0s 13ms/step - loss: 9.1115e-05 - val_loss: 0.0038\n",
      "Epoch 53/100\n",
      "33/33 [==============================] - 0s 13ms/step - loss: 9.1373e-05 - val_loss: 0.0040\n",
      "Epoch 54/100\n",
      "33/33 [==============================] - 0s 13ms/step - loss: 8.7379e-05 - val_loss: 0.0028\n",
      "Epoch 55/100\n",
      "33/33 [==============================] - 0s 13ms/step - loss: 9.4394e-05 - val_loss: 0.0035\n",
      "Epoch 56/100\n",
      "33/33 [==============================] - 0s 13ms/step - loss: 8.6949e-05 - val_loss: 0.0028\n",
      "Epoch 57/100\n",
      "33/33 [==============================] - 0s 14ms/step - loss: 8.4159e-05 - val_loss: 0.0034\n",
      "Epoch 58/100\n",
      "33/33 [==============================] - 0s 14ms/step - loss: 8.6900e-05 - val_loss: 0.0025\n",
      "Epoch 59/100\n",
      "33/33 [==============================] - 0s 14ms/step - loss: 8.7332e-05 - val_loss: 0.0039\n",
      "Epoch 60/100\n",
      "33/33 [==============================] - 0s 14ms/step - loss: 8.5801e-05 - val_loss: 0.0039\n",
      "Epoch 61/100\n",
      "33/33 [==============================] - 0s 14ms/step - loss: 8.3730e-05 - val_loss: 0.0024\n",
      "Epoch 62/100\n",
      "33/33 [==============================] - 0s 14ms/step - loss: 8.5415e-05 - val_loss: 0.0032\n",
      "Epoch 63/100\n",
      "33/33 [==============================] - 0s 13ms/step - loss: 8.8658e-05 - val_loss: 0.0031\n",
      "Epoch 64/100\n",
      "33/33 [==============================] - 0s 13ms/step - loss: 8.3317e-05 - val_loss: 0.0031\n",
      "Epoch 65/100\n",
      "33/33 [==============================] - 0s 14ms/step - loss: 8.1329e-05 - val_loss: 0.0030\n",
      "Epoch 66/100\n",
      "33/33 [==============================] - 0s 15ms/step - loss: 7.6869e-05 - val_loss: 0.0024\n",
      "Epoch 67/100\n",
      "33/33 [==============================] - 1s 15ms/step - loss: 8.3196e-05 - val_loss: 0.0034\n",
      "Epoch 68/100\n",
      "33/33 [==============================] - 0s 14ms/step - loss: 7.8042e-05 - val_loss: 0.0044\n",
      "Epoch 69/100\n",
      "33/33 [==============================] - 0s 13ms/step - loss: 8.5893e-05 - val_loss: 0.0031\n",
      "Epoch 70/100\n",
      "33/33 [==============================] - 0s 13ms/step - loss: 7.3867e-05 - val_loss: 0.0033\n",
      "Epoch 71/100\n",
      "33/33 [==============================] - 0s 13ms/step - loss: 7.6014e-05 - val_loss: 0.0029\n",
      "Epoch 72/100\n",
      "33/33 [==============================] - 0s 13ms/step - loss: 7.7909e-05 - val_loss: 0.0020\n",
      "Epoch 73/100\n",
      "33/33 [==============================] - 0s 13ms/step - loss: 7.7915e-05 - val_loss: 0.0031\n",
      "Epoch 74/100\n",
      "33/33 [==============================] - 0s 13ms/step - loss: 7.7451e-05 - val_loss: 0.0027\n",
      "Epoch 75/100\n",
      "33/33 [==============================] - 0s 13ms/step - loss: 7.3163e-05 - val_loss: 0.0026\n",
      "Epoch 76/100\n",
      "33/33 [==============================] - 0s 13ms/step - loss: 8.1260e-05 - val_loss: 0.0029\n",
      "Epoch 77/100\n",
      "33/33 [==============================] - 0s 13ms/step - loss: 7.7323e-05 - val_loss: 0.0026\n",
      "Epoch 78/100\n",
      "33/33 [==============================] - 0s 13ms/step - loss: 7.5119e-05 - val_loss: 0.0044\n",
      "Epoch 79/100\n"
     ]
    },
    {
     "name": "stdout",
     "output_type": "stream",
     "text": [
      "33/33 [==============================] - 0s 13ms/step - loss: 7.3234e-05 - val_loss: 0.0032\n",
      "Epoch 80/100\n",
      "33/33 [==============================] - 0s 13ms/step - loss: 7.9446e-05 - val_loss: 0.0029\n",
      "Epoch 81/100\n",
      "33/33 [==============================] - 0s 13ms/step - loss: 7.2932e-05 - val_loss: 0.0026\n",
      "Epoch 82/100\n",
      "33/33 [==============================] - 0s 13ms/step - loss: 6.9149e-05 - val_loss: 0.0030\n",
      "Epoch 83/100\n",
      "33/33 [==============================] - 0s 13ms/step - loss: 7.4632e-05 - val_loss: 0.0021\n",
      "Epoch 84/100\n",
      "33/33 [==============================] - 0s 13ms/step - loss: 7.4672e-05 - val_loss: 0.0023\n",
      "Epoch 85/100\n",
      "33/33 [==============================] - 0s 13ms/step - loss: 6.7044e-05 - val_loss: 0.0021\n",
      "Epoch 86/100\n",
      "33/33 [==============================] - 0s 13ms/step - loss: 6.9405e-05 - val_loss: 0.0023\n",
      "Epoch 87/100\n",
      "33/33 [==============================] - 0s 13ms/step - loss: 7.3757e-05 - val_loss: 0.0028\n",
      "Epoch 88/100\n",
      "33/33 [==============================] - 0s 13ms/step - loss: 7.0690e-05 - val_loss: 0.0023\n",
      "Epoch 89/100\n",
      "33/33 [==============================] - 0s 13ms/step - loss: 6.7645e-05 - val_loss: 0.0022\n",
      "Epoch 90/100\n",
      "33/33 [==============================] - 0s 13ms/step - loss: 6.8501e-05 - val_loss: 0.0021\n",
      "Epoch 91/100\n",
      "33/33 [==============================] - 0s 13ms/step - loss: 7.1416e-05 - val_loss: 0.0023\n",
      "Epoch 92/100\n",
      "33/33 [==============================] - 0s 13ms/step - loss: 6.5674e-05 - val_loss: 0.0020\n",
      "Epoch 93/100\n",
      "33/33 [==============================] - 0s 13ms/step - loss: 7.2040e-05 - val_loss: 0.0017\n",
      "Epoch 94/100\n",
      "33/33 [==============================] - 0s 13ms/step - loss: 7.2674e-05 - val_loss: 0.0028\n",
      "Epoch 95/100\n",
      "33/33 [==============================] - 0s 13ms/step - loss: 6.6137e-05 - val_loss: 0.0026\n",
      "Epoch 96/100\n",
      "33/33 [==============================] - 0s 13ms/step - loss: 6.8762e-05 - val_loss: 0.0023\n",
      "Epoch 97/100\n",
      "33/33 [==============================] - 0s 13ms/step - loss: 6.5749e-05 - val_loss: 0.0029\n",
      "Epoch 98/100\n",
      "33/33 [==============================] - 0s 13ms/step - loss: 6.8192e-05 - val_loss: 0.0028\n",
      "Epoch 99/100\n",
      "33/33 [==============================] - 0s 14ms/step - loss: 6.4889e-05 - val_loss: 0.0017\n",
      "Epoch 100/100\n",
      "33/33 [==============================] - 0s 13ms/step - loss: 5.9444e-05 - val_loss: 0.0022\n",
      "10/10 [==============================] - 0s 3ms/step - loss: 0.0037\n",
      "0.003677984233945608\n"
     ]
    }
   ],
   "source": [
    "model.fit(x=X_train, y=y_train, batch_size=32, epochs=100, shuffle=True, validation_split=0.1)\n",
    "evaluation = model.evaluate(X_test, y_test)\n",
    "print(evaluation)"
   ]
  },
  {
   "cell_type": "code",
   "execution_count": 17,
   "id": "8040d2c5",
   "metadata": {},
   "outputs": [],
   "source": [
    "y_test_predicted = model.predict(X_test)\n",
    "y_test_predicted = y_normaliser.inverse_transform(y_test_predicted)\n",
    "y_predicted = model.predict(ohlcv_histories_normalised)\n",
    "y_predicted = y_normaliser.inverse_transform(y_predicted)"
   ]
  },
  {
   "cell_type": "code",
   "execution_count": 18,
   "id": "e1f651bc",
   "metadata": {},
   "outputs": [
    {
     "data": {
      "text/plain": [
       "True"
      ]
     },
     "execution_count": 18,
     "metadata": {},
     "output_type": "execute_result"
    }
   ],
   "source": [
    "unscaled_y_test.shape == y_test_predicted.shape"
   ]
  },
  {
   "cell_type": "code",
   "execution_count": 19,
   "id": "e15b29d4",
   "metadata": {},
   "outputs": [],
   "source": [
    "from sklearn.metrics import mean_squared_error,r2_score"
   ]
  },
  {
   "cell_type": "code",
   "execution_count": 20,
   "id": "25c347e0",
   "metadata": {},
   "outputs": [
    {
     "name": "stdout",
     "output_type": "stream",
     "text": [
      "Root mean squared error:  3901.3860239352116\n",
      "R2 score:  0.8390181953327791\n"
     ]
    }
   ],
   "source": [
    "rmse = mean_squared_error(unscaled_y_test, y_test_predicted,squared=False)\n",
    "r2 = r2_score(unscaled_y_test, y_test_predicted)\n",
    "print('Root mean squared error: ', rmse)\n",
    "print('R2 score: ', r2)"
   ]
  },
  {
   "cell_type": "code",
   "execution_count": 21,
   "id": "90e289d5",
   "metadata": {},
   "outputs": [
    {
     "data": {
      "image/png": "[encoded data removed]",
      "text/plain": [
       "<Figure size 432x288 with 1 Axes>"
      ]
     },
     "metadata": {
      "needs_background": "light"
     },
     "output_type": "display_data"
    }
   ],
   "source": [
    "#Predicted vs True Adj Close Value – LSTM\n",
    "plt.plot(unscaled_y_test, label='True Value')\n",
    "plt.plot(y_test_predicted, label='LSTM Value')\n",
    "plt.title('Prediction by LSTM')\n",
    "plt.xlabel('Time Scale')\n",
    "plt.ylabel('Scaled USD')\n",
    "plt.legend()\n",
    "plt.show()"
   ]
  },
  {
   "cell_type": "code",
   "execution_count": null,
   "id": "4130ce07",
   "metadata": {},
   "outputs": [],
   "source": []
  },
  {
   "cell_type": "code",
   "execution_count": null,
   "id": "94b8f382",
   "metadata": {},
   "outputs": [],
   "source": []
  }
 ],
 "metadata": {
  "kernelspec": {
   "display_name": "Python 3 (ipykernel)",
   "language": "python",
   "name": "python3"
  },
  "language_info": {
   "codemirror_mode": {
    "name": "ipython",
    "version": 3
   },
   "file_extension": ".py",
   "mimetype": "text/x-python",
   "name": "python",
   "nbconvert_exporter": "python",
   "pygments_lexer": "ipython3",
   "version": "3.8.12"
  }
 },
 "nbformat": 4,
 "nbformat_minor": 5
}
