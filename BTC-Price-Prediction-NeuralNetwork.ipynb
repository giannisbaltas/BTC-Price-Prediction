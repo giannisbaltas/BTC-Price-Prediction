{
 "cells": [
  {
   "cell_type": "markdown",
   "id": "978664c9",
   "metadata": {},
   "source": [
    "### Importing Needed packages"
   ]
  },
  {
   "cell_type": "code",
   "execution_count": 6,
   "id": "0dc3b4ba",
   "metadata": {},
   "outputs": [],
   "source": [
    "import pandas as pd\n",
    "import matplotlib.pyplot as plt\n",
    "import numpy as np\n",
    "from sklearn.preprocessing import MinMaxScaler\n",
    "%matplotlib inline"
   ]
  },
  {
   "cell_type": "markdown",
   "id": "aa063a30",
   "metadata": {},
   "source": [
    "### Reading the Data in\n",
    "The last 5 years given by Yahoo Finance are from 09/11/2017 to Present(29/12/2021)"
   ]
  },
  {
   "cell_type": "code",
   "execution_count": 7,
   "id": "cc655674",
   "metadata": {
    "scrolled": false
   },
   "outputs": [
    {
     "data": {
      "text/html": [
       "<div>\n",
       "<style scoped>\n",
       "    .dataframe tbody tr th:only-of-type {\n",
       "        vertical-align: middle;\n",
       "    }\n",
       "\n",
       "    .dataframe tbody tr th {\n",
       "        vertical-align: top;\n",
       "    }\n",
       "\n",
       "    .dataframe thead th {\n",
       "        text-align: right;\n",
       "    }\n",
       "</style>\n",
       "<table border=\"1\" class=\"dataframe\">\n",
       "  <thead>\n",
       "    <tr style=\"text-align: right;\">\n",
       "      <th></th>\n",
       "      <th>Date</th>\n",
       "      <th>Open</th>\n",
       "      <th>High</th>\n",
       "      <th>Low</th>\n",
       "      <th>Close</th>\n",
       "      <th>Adj Close</th>\n",
       "      <th>Volume</th>\n",
       "    </tr>\n",
       "  </thead>\n",
       "  <tbody>\n",
       "    <tr>\n",
       "      <th>0</th>\n",
       "      <td>2017-11-09</td>\n",
       "      <td>7446.830078</td>\n",
       "      <td>7446.830078</td>\n",
       "      <td>7101.520020</td>\n",
       "      <td>7143.580078</td>\n",
       "      <td>7143.580078</td>\n",
       "      <td>3226249984</td>\n",
       "    </tr>\n",
       "    <tr>\n",
       "      <th>1</th>\n",
       "      <td>2017-11-10</td>\n",
       "      <td>7173.729980</td>\n",
       "      <td>7312.000000</td>\n",
       "      <td>6436.870117</td>\n",
       "      <td>6618.140137</td>\n",
       "      <td>6618.140137</td>\n",
       "      <td>5208249856</td>\n",
       "    </tr>\n",
       "    <tr>\n",
       "      <th>2</th>\n",
       "      <td>2017-11-11</td>\n",
       "      <td>6618.609863</td>\n",
       "      <td>6873.149902</td>\n",
       "      <td>6204.220215</td>\n",
       "      <td>6357.600098</td>\n",
       "      <td>6357.600098</td>\n",
       "      <td>4908680192</td>\n",
       "    </tr>\n",
       "    <tr>\n",
       "      <th>3</th>\n",
       "      <td>2017-11-12</td>\n",
       "      <td>6295.450195</td>\n",
       "      <td>6625.049805</td>\n",
       "      <td>5519.009766</td>\n",
       "      <td>5950.069824</td>\n",
       "      <td>5950.069824</td>\n",
       "      <td>8957349888</td>\n",
       "    </tr>\n",
       "    <tr>\n",
       "      <th>4</th>\n",
       "      <td>2017-11-13</td>\n",
       "      <td>5938.250000</td>\n",
       "      <td>6811.189941</td>\n",
       "      <td>5844.290039</td>\n",
       "      <td>6559.490234</td>\n",
       "      <td>6559.490234</td>\n",
       "      <td>6263249920</td>\n",
       "    </tr>\n",
       "    <tr>\n",
       "      <th>...</th>\n",
       "      <td>...</td>\n",
       "      <td>...</td>\n",
       "      <td>...</td>\n",
       "      <td>...</td>\n",
       "      <td>...</td>\n",
       "      <td>...</td>\n",
       "      <td>...</td>\n",
       "    </tr>\n",
       "    <tr>\n",
       "      <th>1507</th>\n",
       "      <td>2021-12-25</td>\n",
       "      <td>50854.917969</td>\n",
       "      <td>51176.597656</td>\n",
       "      <td>50236.707031</td>\n",
       "      <td>50429.859375</td>\n",
       "      <td>50429.859375</td>\n",
       "      <td>19030650914</td>\n",
       "    </tr>\n",
       "    <tr>\n",
       "      <th>1508</th>\n",
       "      <td>2021-12-26</td>\n",
       "      <td>50428.691406</td>\n",
       "      <td>51196.378906</td>\n",
       "      <td>49623.105469</td>\n",
       "      <td>50809.515625</td>\n",
       "      <td>50809.515625</td>\n",
       "      <td>20964372926</td>\n",
       "    </tr>\n",
       "    <tr>\n",
       "      <th>1509</th>\n",
       "      <td>2021-12-27</td>\n",
       "      <td>50802.609375</td>\n",
       "      <td>51956.328125</td>\n",
       "      <td>50499.468750</td>\n",
       "      <td>50640.417969</td>\n",
       "      <td>50640.417969</td>\n",
       "      <td>24324345758</td>\n",
       "    </tr>\n",
       "    <tr>\n",
       "      <th>1510</th>\n",
       "      <td>2021-12-28</td>\n",
       "      <td>50679.859375</td>\n",
       "      <td>50679.859375</td>\n",
       "      <td>47414.210938</td>\n",
       "      <td>47588.855469</td>\n",
       "      <td>47588.855469</td>\n",
       "      <td>33430376883</td>\n",
       "    </tr>\n",
       "    <tr>\n",
       "      <th>1511</th>\n",
       "      <td>2021-12-29</td>\n",
       "      <td>47576.855469</td>\n",
       "      <td>48101.585938</td>\n",
       "      <td>46730.207031</td>\n",
       "      <td>46854.156250</td>\n",
       "      <td>46854.156250</td>\n",
       "      <td>30502799360</td>\n",
       "    </tr>\n",
       "  </tbody>\n",
       "</table>\n",
       "<p>1512 rows × 7 columns</p>\n",
       "</div>"
      ],
      "text/plain": [
       "            Date          Open          High           Low         Close  \\\n",
       "0     2017-11-09   7446.830078   7446.830078   7101.520020   7143.580078   \n",
       "1     2017-11-10   7173.729980   7312.000000   6436.870117   6618.140137   \n",
       "2     2017-11-11   6618.609863   6873.149902   6204.220215   6357.600098   \n",
       "3     2017-11-12   6295.450195   6625.049805   5519.009766   5950.069824   \n",
       "4     2017-11-13   5938.250000   6811.189941   5844.290039   6559.490234   \n",
       "...          ...           ...           ...           ...           ...   \n",
       "1507  2021-12-25  50854.917969  51176.597656  50236.707031  50429.859375   \n",
       "1508  2021-12-26  50428.691406  51196.378906  49623.105469  50809.515625   \n",
       "1509  2021-12-27  50802.609375  51956.328125  50499.468750  50640.417969   \n",
       "1510  2021-12-28  50679.859375  50679.859375  47414.210938  47588.855469   \n",
       "1511  2021-12-29  47576.855469  48101.585938  46730.207031  46854.156250   \n",
       "\n",
       "         Adj Close       Volume  \n",
       "0      7143.580078   3226249984  \n",
       "1      6618.140137   5208249856  \n",
       "2      6357.600098   4908680192  \n",
       "3      5950.069824   8957349888  \n",
       "4      6559.490234   6263249920  \n",
       "...            ...          ...  \n",
       "1507  50429.859375  19030650914  \n",
       "1508  50809.515625  20964372926  \n",
       "1509  50640.417969  24324345758  \n",
       "1510  47588.855469  33430376883  \n",
       "1511  46854.156250  30502799360  \n",
       "\n",
       "[1512 rows x 7 columns]"
      ]
     },
     "execution_count": 7,
     "metadata": {},
     "output_type": "execute_result"
    }
   ],
   "source": [
    "df = pd.read_csv(\"btc-usd.csv\")\n",
    "\n",
    "# take a look at the dataset\n",
    "df"
   ]
  },
  {
   "cell_type": "markdown",
   "id": "5e2b4b6c",
   "metadata": {},
   "source": [
    "Let's drop from our dataset the Date and the Adj Close "
   ]
  },
  {
   "cell_type": "code",
   "execution_count": 8,
   "id": "25793457",
   "metadata": {},
   "outputs": [],
   "source": [
    "df = df.drop('Date',axis=1)\n",
    "df = df.drop('Adj Close',axis=1)"
   ]
  },
  {
   "cell_type": "code",
   "execution_count": 9,
   "id": "4f59ebd8",
   "metadata": {},
   "outputs": [
    {
     "data": {
      "text/html": [
       "<div>\n",
       "<style scoped>\n",
       "    .dataframe tbody tr th:only-of-type {\n",
       "        vertical-align: middle;\n",
       "    }\n",
       "\n",
       "    .dataframe tbody tr th {\n",
       "        vertical-align: top;\n",
       "    }\n",
       "\n",
       "    .dataframe thead th {\n",
       "        text-align: right;\n",
       "    }\n",
       "</style>\n",
       "<table border=\"1\" class=\"dataframe\">\n",
       "  <thead>\n",
       "    <tr style=\"text-align: right;\">\n",
       "      <th></th>\n",
       "      <th>Open</th>\n",
       "      <th>High</th>\n",
       "      <th>Low</th>\n",
       "      <th>Close</th>\n",
       "      <th>Volume</th>\n",
       "    </tr>\n",
       "  </thead>\n",
       "  <tbody>\n",
       "    <tr>\n",
       "      <th>0</th>\n",
       "      <td>7446.830078</td>\n",
       "      <td>7446.830078</td>\n",
       "      <td>7101.520020</td>\n",
       "      <td>7143.580078</td>\n",
       "      <td>3226249984</td>\n",
       "    </tr>\n",
       "    <tr>\n",
       "      <th>1</th>\n",
       "      <td>7173.729980</td>\n",
       "      <td>7312.000000</td>\n",
       "      <td>6436.870117</td>\n",
       "      <td>6618.140137</td>\n",
       "      <td>5208249856</td>\n",
       "    </tr>\n",
       "    <tr>\n",
       "      <th>2</th>\n",
       "      <td>6618.609863</td>\n",
       "      <td>6873.149902</td>\n",
       "      <td>6204.220215</td>\n",
       "      <td>6357.600098</td>\n",
       "      <td>4908680192</td>\n",
       "    </tr>\n",
       "    <tr>\n",
       "      <th>3</th>\n",
       "      <td>6295.450195</td>\n",
       "      <td>6625.049805</td>\n",
       "      <td>5519.009766</td>\n",
       "      <td>5950.069824</td>\n",
       "      <td>8957349888</td>\n",
       "    </tr>\n",
       "    <tr>\n",
       "      <th>4</th>\n",
       "      <td>5938.250000</td>\n",
       "      <td>6811.189941</td>\n",
       "      <td>5844.290039</td>\n",
       "      <td>6559.490234</td>\n",
       "      <td>6263249920</td>\n",
       "    </tr>\n",
       "    <tr>\n",
       "      <th>...</th>\n",
       "      <td>...</td>\n",
       "      <td>...</td>\n",
       "      <td>...</td>\n",
       "      <td>...</td>\n",
       "      <td>...</td>\n",
       "    </tr>\n",
       "    <tr>\n",
       "      <th>1507</th>\n",
       "      <td>50854.917969</td>\n",
       "      <td>51176.597656</td>\n",
       "      <td>50236.707031</td>\n",
       "      <td>50429.859375</td>\n",
       "      <td>19030650914</td>\n",
       "    </tr>\n",
       "    <tr>\n",
       "      <th>1508</th>\n",
       "      <td>50428.691406</td>\n",
       "      <td>51196.378906</td>\n",
       "      <td>49623.105469</td>\n",
       "      <td>50809.515625</td>\n",
       "      <td>20964372926</td>\n",
       "    </tr>\n",
       "    <tr>\n",
       "      <th>1509</th>\n",
       "      <td>50802.609375</td>\n",
       "      <td>51956.328125</td>\n",
       "      <td>50499.468750</td>\n",
       "      <td>50640.417969</td>\n",
       "      <td>24324345758</td>\n",
       "    </tr>\n",
       "    <tr>\n",
       "      <th>1510</th>\n",
       "      <td>50679.859375</td>\n",
       "      <td>50679.859375</td>\n",
       "      <td>47414.210938</td>\n",
       "      <td>47588.855469</td>\n",
       "      <td>33430376883</td>\n",
       "    </tr>\n",
       "    <tr>\n",
       "      <th>1511</th>\n",
       "      <td>47576.855469</td>\n",
       "      <td>48101.585938</td>\n",
       "      <td>46730.207031</td>\n",
       "      <td>46854.156250</td>\n",
       "      <td>30502799360</td>\n",
       "    </tr>\n",
       "  </tbody>\n",
       "</table>\n",
       "<p>1512 rows × 5 columns</p>\n",
       "</div>"
      ],
      "text/plain": [
       "              Open          High           Low         Close       Volume\n",
       "0      7446.830078   7446.830078   7101.520020   7143.580078   3226249984\n",
       "1      7173.729980   7312.000000   6436.870117   6618.140137   5208249856\n",
       "2      6618.609863   6873.149902   6204.220215   6357.600098   4908680192\n",
       "3      6295.450195   6625.049805   5519.009766   5950.069824   8957349888\n",
       "4      5938.250000   6811.189941   5844.290039   6559.490234   6263249920\n",
       "...            ...           ...           ...           ...          ...\n",
       "1507  50854.917969  51176.597656  50236.707031  50429.859375  19030650914\n",
       "1508  50428.691406  51196.378906  49623.105469  50809.515625  20964372926\n",
       "1509  50802.609375  51956.328125  50499.468750  50640.417969  24324345758\n",
       "1510  50679.859375  50679.859375  47414.210938  47588.855469  33430376883\n",
       "1511  47576.855469  48101.585938  46730.207031  46854.156250  30502799360\n",
       "\n",
       "[1512 rows x 5 columns]"
      ]
     },
     "execution_count": 9,
     "metadata": {},
     "output_type": "execute_result"
    }
   ],
   "source": [
    "df"
   ]
  },
  {
   "cell_type": "markdown",
   "id": "5eb3ddbd",
   "metadata": {},
   "source": [
    "Let's set the history_points value equal to 50, so the model will train on and require the past 50 days of BTC to make a prediction about the next day."
   ]
  },
  {
   "cell_type": "code",
   "execution_count": 10,
   "id": "c8ff2ce8",
   "metadata": {},
   "outputs": [],
   "source": [
    "history_points = 50"
   ]
  },
  {
   "cell_type": "markdown",
   "id": "767a1898",
   "metadata": {},
   "source": [
    "Now we normalise the data in a range between 0 and 1 using MinMaxScaler"
   ]
  },
  {
   "cell_type": "code",
   "execution_count": 11,
   "id": "ef52172e",
   "metadata": {},
   "outputs": [],
   "source": [
    "data_normaliser = MinMaxScaler()\n",
    "data_normalised = data_normaliser.fit_transform(df)"
   ]
  },
  {
   "cell_type": "code",
   "execution_count": 12,
   "id": "193cfb2f",
   "metadata": {},
   "outputs": [
    {
     "data": {
      "text/plain": [
       "array([[0.06546927, 0.06367244, 0.06187956, 0.06073083, 0.00086937],\n",
       "       [0.06122288, 0.06161442, 0.05136141, 0.05256296, 0.00656405],\n",
       "       [0.0525914 , 0.05491587, 0.0476797 , 0.0485129 , 0.00570333],\n",
       "       ...,\n",
       "       [0.73960155, 0.74305899, 0.74865639, 0.73688182, 0.06148837],\n",
       "       [0.73769293, 0.72357515, 0.69983188, 0.68944579, 0.0876518 ],\n",
       "       [0.68944481, 0.68422076, 0.68900745, 0.67802502, 0.07924029]])"
      ]
     },
     "execution_count": 12,
     "metadata": {},
     "output_type": "execute_result"
    }
   ],
   "source": [
    "data_normalised # contains the normalised BTC prices"
   ]
  },
  {
   "cell_type": "markdown",
   "id": "64ffa24f",
   "metadata": {},
   "source": [
    "Using the last {history_points} Open High Low Close Volume data points to predict the next close value (the fourth collumn, so [:,3] to extract its data points)\n",
    "\n",
    "For each x value we are getting the [i : i + history_points], since the numpy slicing is [inclusive:exclusive] and then the y value must be the one and only [i + history_points] price; the price for the very next day."
   ]
  },
  {
   "cell_type": "code",
   "execution_count": 20,
   "id": "571d2cda",
   "metadata": {},
   "outputs": [],
   "source": [
    "data_histories_normalised = np.array([data_normalised[i  : i + history_points].copy() for i in range(len(data_normalised) - history_points)])\n",
    "\n",
    "next_day_close_values_normalised = np.array([data_normalised[:,3][i + history_points].copy() for i in range(len(data_normalised) - history_points)])\n",
    "\n",
    "# lets add a new dimension to our numpy array\n",
    "next_day_close_values_normalised = np.expand_dims(next_day_close_values_normalised, -1)\n",
    "\n",
    "next_day_close_values = np.array([df.iloc[:,3][i + history_points].copy() for i in range(len(df) - history_points)])\n",
    "next_day_close_values = np.expand_dims(next_day_close_values, -1)"
   ]
  },
  {
   "cell_type": "markdown",
   "id": "2fcefe73",
   "metadata": {},
   "source": [
    "Let's check if the number of x's equals the number of y's"
   ]
  },
  {
   "cell_type": "code",
   "execution_count": 29,
   "id": "80918bb8",
   "metadata": {},
   "outputs": [
    {
     "data": {
      "text/plain": [
       "True"
      ]
     },
     "execution_count": 29,
     "metadata": {},
     "output_type": "execute_result"
    }
   ],
   "source": [
    "data_histories_normalised.shape[0] == next_day_close_values_normalised.shape[0]"
   ]
  },
  {
   "cell_type": "markdown",
   "id": "736bda79",
   "metadata": {},
   "source": [
    "The model will predict a value that will be a normalised number btw 0 and 1. So we want to compute the un-normalised number as it will be in real world. y_normaliser will help us to do that."
   ]
  },
  {
   "cell_type": "code",
   "execution_count": 21,
   "id": "9cfc1fd5",
   "metadata": {},
   "outputs": [
    {
     "data": {
      "text/plain": [
       "MinMaxScaler()"
      ]
     },
     "execution_count": 21,
     "metadata": {},
     "output_type": "execute_result"
    }
   ],
   "source": [
    "y_normaliser = MinMaxScaler()\n",
    "y_normaliser.fit(next_day_close_values)"
   ]
  },
  {
   "cell_type": "markdown",
   "id": "85f53bcc",
   "metadata": {},
   "source": [
    "### Train/Test dataset\n",
    "We split our dataset into train and test set"
   ]
  },
  {
   "cell_type": "code",
   "execution_count": 24,
   "id": "08ba87ad",
   "metadata": {},
   "outputs": [],
   "source": [
    "test_split = 0.2 # the percent of data to be used for testing\n",
    "n = int(data_histories_normalised.shape[0] * test_split)"
   ]
  },
  {
   "cell_type": "code",
   "execution_count": 26,
   "id": "41fa93f1",
   "metadata": {},
   "outputs": [],
   "source": [
    "X_train = data_histories_normalised[:n]\n",
    "y_train = next_day_close_values_normalised[:n]\n",
    "\n",
    "X_test = data_histories_normalised[n:]\n",
    "y_test = next_day_close_values_normalised[n:]\n",
    "\n",
    "unscaled_y_test = next_day_close_values[n:] # unscaled close values for the test set"
   ]
  },
  {
   "cell_type": "markdown",
   "id": "677a569b",
   "metadata": {},
   "source": [
    "### Building the LSTM Model for BTC Price Prediction\n",
    "We will use the Long Short-Term Memory method to create a model to forecast BTC Close values. LTSMs and recurrent neural networks are as a result good at working with time series data thanks to their ability to remember the past."
   ]
  },
  {
   "attachments": {
    "image.png": {
     "image/png": "[encoded data removed]"
    }
   },
   "cell_type": "markdown",
   "id": "af7c06bc",
   "metadata": {},
   "source": [
    "![image.png](attachment:image.png)"
   ]
  },
  {
   "cell_type": "markdown",
   "id": "a36b9e28",
   "metadata": {},
   "source": [
    "It is special kind of recurrent neural network that is capable of learning long term dependencies in data. This is achieved because the recurring module of the model has a combination of four layers interacting with each other."
   ]
  },
  {
   "cell_type": "code",
   "execution_count": 28,
   "id": "1458af09",
   "metadata": {},
   "outputs": [],
   "source": [
    "import keras\n",
    "import tensorflow as tf\n",
    "from keras.models import Model,Sequential\n",
    "from keras.layers import Dense, Dropout, LSTM, Input, Activation, concatenate\n",
    "from keras import optimizers"
   ]
  },
  {
   "cell_type": "code",
   "execution_count": 30,
   "id": "91de2910",
   "metadata": {},
   "outputs": [
    {
     "data": {
      "image/png": "[encoded data removed]",
      "text/plain": [
       "<IPython.core.display.Image object>"
      ]
     },
     "execution_count": 30,
     "metadata": {},
     "output_type": "execute_result"
    }
   ],
   "source": [
    "np.random.seed(4)\n",
    "tf.random.set_seed(4) \n",
    "\n",
    "lstm_input = Input(shape=(history_points, 5), name='lstm_input')\n",
    "x = LSTM(50, name='lstm_0')(lstm_input)\n",
    "x = Dropout(0.2, name='lstm_dropout_0')(x)\n",
    "x = Dense(64, name='dense_0')(x)\n",
    "x = Activation('sigmoid', name='sigmoid_0')(x)\n",
    "x = Dense(1, name='dense_1')(x)\n",
    "output = Activation('relu', name='relu_output')(x)\n",
    "model = Model(inputs=lstm_input, outputs=output)\n",
    "\n",
    "adam = optimizers.Adam(lr=0.0005)\n",
    "\n",
    "model.compile(optimizer=adam, loss='mse')\n",
    "\n",
    "from keras.utils import plot_model\n",
    "plot_model(model, show_shapes=True, show_layer_names=True)"
   ]
  },
  {
   "cell_type": "markdown",
   "id": "f6214a38",
   "metadata": {},
   "source": [
    "The input layer has shape (history_points, 5), since each input data point is an array which contains the last {history_points=50} of Open,Close,High,Low,Volume that counts to 5. \n",
    "The model has 50 LSTM cells in the first layer, a dropout layer to reduce overfitting and improve model performance and then some dense layers to bring all of the LSTM data together.\n",
    "The purpose of ReLu activation is to allow the neural network to learn nonlinear dependencies."
   ]
  },
  {
   "cell_type": "markdown",
   "id": "3563143f",
   "metadata": {},
   "source": [
    "Finally, we use the fit function to train the LSTM model created above on the training data for 100 epochs with a batch size of 32."
   ]
  },
  {
   "cell_type": "code",
   "execution_count": 31,
   "id": "9dbf2597",
   "metadata": {
    "scrolled": true
   },
   "outputs": [
    {
     "name": "stdout",
     "output_type": "stream",
     "text": [
      "Epoch 1/100\n",
      "9/9 [==============================] - 1s 69ms/step - loss: 0.1644 - val_loss: 0.1076\n",
      "Epoch 2/100\n",
      "9/9 [==============================] - 0s 12ms/step - loss: 0.0496 - val_loss: 0.0219\n",
      "Epoch 3/100\n",
      "9/9 [==============================] - 0s 11ms/step - loss: 0.0064 - val_loss: 2.3079e-04\n",
      "Epoch 4/100\n",
      "9/9 [==============================] - 0s 11ms/step - loss: 0.0078 - val_loss: 0.0026\n",
      "Epoch 5/100\n",
      "9/9 [==============================] - 0s 11ms/step - loss: 0.0080 - val_loss: 0.0026\n",
      "Epoch 6/100\n",
      "9/9 [==============================] - 0s 11ms/step - loss: 0.0081 - val_loss: 0.0026\n",
      "Epoch 7/100\n",
      "9/9 [==============================] - 0s 11ms/step - loss: 0.0081 - val_loss: 0.0026\n",
      "Epoch 8/100\n",
      "9/9 [==============================] - 0s 11ms/step - loss: 0.0081 - val_loss: 0.0026\n",
      "Epoch 9/100\n",
      "9/9 [==============================] - 0s 11ms/step - loss: 0.0081 - val_loss: 0.0026\n",
      "Epoch 10/100\n",
      "9/9 [==============================] - 0s 11ms/step - loss: 0.0081 - val_loss: 0.0026\n",
      "Epoch 11/100\n",
      "9/9 [==============================] - 0s 11ms/step - loss: 0.0081 - val_loss: 0.0026\n",
      "Epoch 12/100\n",
      "9/9 [==============================] - 0s 11ms/step - loss: 0.0080 - val_loss: 0.0026\n",
      "Epoch 13/100\n",
      "9/9 [==============================] - 0s 11ms/step - loss: 0.0081 - val_loss: 0.0026\n",
      "Epoch 14/100\n",
      "9/9 [==============================] - 0s 11ms/step - loss: 0.0081 - val_loss: 0.0026\n",
      "Epoch 15/100\n",
      "9/9 [==============================] - 0s 11ms/step - loss: 0.0080 - val_loss: 0.0026\n",
      "Epoch 16/100\n",
      "9/9 [==============================] - 0s 11ms/step - loss: 0.0081 - val_loss: 0.0026\n",
      "Epoch 17/100\n",
      "9/9 [==============================] - 0s 11ms/step - loss: 0.0080 - val_loss: 0.0026\n",
      "Epoch 18/100\n",
      "9/9 [==============================] - 0s 11ms/step - loss: 0.0080 - val_loss: 0.0026\n",
      "Epoch 19/100\n",
      "9/9 [==============================] - 0s 11ms/step - loss: 0.0080 - val_loss: 0.0026\n",
      "Epoch 20/100\n",
      "9/9 [==============================] - 0s 11ms/step - loss: 0.0080 - val_loss: 0.0026\n",
      "Epoch 21/100\n",
      "9/9 [==============================] - 0s 11ms/step - loss: 0.0076 - val_loss: 2.2058e-04\n",
      "Epoch 22/100\n",
      "9/9 [==============================] - 0s 11ms/step - loss: 0.0047 - val_loss: 0.0025\n",
      "Epoch 23/100\n",
      "9/9 [==============================] - 0s 11ms/step - loss: 0.0033 - val_loss: 0.0050\n",
      "Epoch 24/100\n",
      "9/9 [==============================] - 0s 11ms/step - loss: 0.0030 - val_loss: 0.0028\n",
      "Epoch 25/100\n",
      "9/9 [==============================] - 0s 11ms/step - loss: 0.0025 - val_loss: 0.0016\n",
      "Epoch 26/100\n",
      "9/9 [==============================] - 0s 11ms/step - loss: 0.0023 - val_loss: 0.0019\n",
      "Epoch 27/100\n",
      "9/9 [==============================] - 0s 11ms/step - loss: 0.0022 - val_loss: 0.0015\n",
      "Epoch 28/100\n",
      "9/9 [==============================] - 0s 11ms/step - loss: 0.0021 - val_loss: 0.0016\n",
      "Epoch 29/100\n",
      "9/9 [==============================] - 0s 11ms/step - loss: 0.0021 - val_loss: 0.0020\n",
      "Epoch 30/100\n",
      "9/9 [==============================] - 0s 11ms/step - loss: 0.0019 - val_loss: 0.0013\n",
      "Epoch 31/100\n",
      "9/9 [==============================] - 0s 11ms/step - loss: 0.0017 - val_loss: 0.0012\n",
      "Epoch 32/100\n",
      "9/9 [==============================] - 0s 11ms/step - loss: 0.0017 - val_loss: 0.0013\n",
      "Epoch 33/100\n",
      "9/9 [==============================] - 0s 11ms/step - loss: 0.0016 - val_loss: 0.0012\n",
      "Epoch 34/100\n",
      "9/9 [==============================] - 0s 11ms/step - loss: 0.0015 - val_loss: 0.0012\n",
      "Epoch 35/100\n",
      "9/9 [==============================] - 0s 11ms/step - loss: 0.0014 - val_loss: 0.0011\n",
      "Epoch 36/100\n",
      "9/9 [==============================] - 0s 11ms/step - loss: 0.0013 - val_loss: 9.0247e-04\n",
      "Epoch 37/100\n",
      "9/9 [==============================] - 0s 11ms/step - loss: 0.0011 - val_loss: 9.3685e-04\n",
      "Epoch 38/100\n",
      "9/9 [==============================] - 0s 11ms/step - loss: 9.4798e-04 - val_loss: 6.7563e-04\n",
      "Epoch 39/100\n",
      "9/9 [==============================] - 0s 11ms/step - loss: 7.1552e-04 - val_loss: 3.6475e-04\n",
      "Epoch 40/100\n",
      "9/9 [==============================] - 0s 11ms/step - loss: 5.3642e-04 - val_loss: 1.2748e-04\n",
      "Epoch 41/100\n",
      "9/9 [==============================] - 0s 11ms/step - loss: 4.1471e-04 - val_loss: 1.9862e-05\n",
      "Epoch 42/100\n",
      "9/9 [==============================] - 0s 11ms/step - loss: 4.3887e-04 - val_loss: 2.4498e-04\n",
      "Epoch 43/100\n",
      "9/9 [==============================] - 0s 11ms/step - loss: 3.7334e-04 - val_loss: 2.7443e-05\n",
      "Epoch 44/100\n",
      "9/9 [==============================] - 0s 11ms/step - loss: 4.2303e-04 - val_loss: 1.3741e-04\n",
      "Epoch 45/100\n",
      "9/9 [==============================] - 0s 11ms/step - loss: 3.6646e-04 - val_loss: 4.7876e-05\n",
      "Epoch 46/100\n",
      "9/9 [==============================] - 0s 11ms/step - loss: 3.2796e-04 - val_loss: 2.1525e-05\n",
      "Epoch 47/100\n",
      "9/9 [==============================] - 0s 11ms/step - loss: 3.1622e-04 - val_loss: 4.0816e-05\n",
      "Epoch 48/100\n",
      "9/9 [==============================] - 0s 11ms/step - loss: 3.2711e-04 - val_loss: 2.0111e-05\n",
      "Epoch 49/100\n",
      "9/9 [==============================] - 0s 11ms/step - loss: 2.8832e-04 - val_loss: 3.7227e-05\n",
      "Epoch 50/100\n",
      "9/9 [==============================] - 0s 11ms/step - loss: 2.7551e-04 - val_loss: 1.9990e-05\n",
      "Epoch 51/100\n",
      "9/9 [==============================] - 0s 11ms/step - loss: 2.7647e-04 - val_loss: 3.8050e-05\n",
      "Epoch 52/100\n",
      "9/9 [==============================] - 0s 11ms/step - loss: 2.8185e-04 - val_loss: 3.0215e-05\n",
      "Epoch 53/100\n",
      "9/9 [==============================] - 0s 11ms/step - loss: 2.5938e-04 - val_loss: 4.7864e-05\n",
      "Epoch 54/100\n",
      "9/9 [==============================] - 0s 11ms/step - loss: 2.7050e-04 - val_loss: 2.4311e-05\n",
      "Epoch 55/100\n",
      "9/9 [==============================] - 0s 11ms/step - loss: 2.6692e-04 - val_loss: 2.2309e-05\n",
      "Epoch 56/100\n",
      "9/9 [==============================] - 0s 11ms/step - loss: 2.4821e-04 - val_loss: 3.4827e-05\n",
      "Epoch 57/100\n",
      "9/9 [==============================] - 0s 11ms/step - loss: 2.4058e-04 - val_loss: 8.0376e-06\n",
      "Epoch 58/100\n",
      "9/9 [==============================] - 0s 11ms/step - loss: 2.7020e-04 - val_loss: 1.8154e-05\n",
      "Epoch 59/100\n",
      "9/9 [==============================] - 0s 11ms/step - loss: 2.5021e-04 - val_loss: 3.7998e-05\n",
      "Epoch 60/100\n",
      "9/9 [==============================] - 0s 11ms/step - loss: 2.5401e-04 - val_loss: 2.5131e-05\n",
      "Epoch 61/100\n",
      "9/9 [==============================] - 0s 11ms/step - loss: 2.9784e-04 - val_loss: 2.5803e-05\n",
      "Epoch 62/100\n",
      "9/9 [==============================] - 0s 11ms/step - loss: 3.0422e-04 - val_loss: 7.5634e-05\n",
      "Epoch 63/100\n",
      "9/9 [==============================] - 0s 11ms/step - loss: 2.7037e-04 - val_loss: 1.0850e-05\n",
      "Epoch 64/100\n",
      "9/9 [==============================] - 0s 11ms/step - loss: 2.3293e-04 - val_loss: 5.1978e-05\n",
      "Epoch 65/100\n",
      "9/9 [==============================] - 0s 11ms/step - loss: 2.5356e-04 - val_loss: 7.8986e-06\n",
      "Epoch 66/100\n",
      "9/9 [==============================] - 0s 11ms/step - loss: 2.4717e-04 - val_loss: 3.8586e-05\n",
      "Epoch 67/100\n",
      "9/9 [==============================] - 0s 11ms/step - loss: 2.4017e-04 - val_loss: 1.3816e-05\n",
      "Epoch 68/100\n",
      "9/9 [==============================] - 0s 11ms/step - loss: 2.1403e-04 - val_loss: 5.2355e-05\n",
      "Epoch 69/100\n",
      "9/9 [==============================] - 0s 11ms/step - loss: 2.4495e-04 - val_loss: 1.3383e-05\n",
      "Epoch 70/100\n",
      "9/9 [==============================] - 0s 12ms/step - loss: 2.5945e-04 - val_loss: 2.1139e-05\n",
      "Epoch 71/100\n",
      "9/9 [==============================] - 0s 12ms/step - loss: 2.3058e-04 - val_loss: 1.4712e-05\n",
      "Epoch 72/100\n",
      "9/9 [==============================] - 0s 11ms/step - loss: 2.0587e-04 - val_loss: 2.1504e-05\n",
      "Epoch 73/100\n",
      "9/9 [==============================] - 0s 11ms/step - loss: 2.1582e-04 - val_loss: 1.3281e-05\n",
      "Epoch 74/100\n",
      "9/9 [==============================] - 0s 11ms/step - loss: 1.9401e-04 - val_loss: 1.1393e-05\n",
      "Epoch 75/100\n",
      "9/9 [==============================] - 0s 11ms/step - loss: 2.0084e-04 - val_loss: 3.1581e-05\n",
      "Epoch 76/100\n",
      "9/9 [==============================] - 0s 11ms/step - loss: 2.1760e-04 - val_loss: 1.2347e-05\n",
      "Epoch 77/100\n",
      "9/9 [==============================] - 0s 11ms/step - loss: 2.1960e-04 - val_loss: 3.2053e-05\n",
      "Epoch 78/100\n",
      "9/9 [==============================] - 0s 11ms/step - loss: 2.3295e-04 - val_loss: 7.8641e-06\n",
      "Epoch 79/100\n",
      "9/9 [==============================] - 0s 11ms/step - loss: 1.8098e-04 - val_loss: 3.2630e-05\n",
      "Epoch 80/100\n"
     ]
    },
    {
     "name": "stdout",
     "output_type": "stream",
     "text": [
      "9/9 [==============================] - 0s 11ms/step - loss: 2.2886e-04 - val_loss: 1.0551e-05\n",
      "Epoch 81/100\n",
      "9/9 [==============================] - 0s 11ms/step - loss: 2.3366e-04 - val_loss: 2.1146e-05\n",
      "Epoch 82/100\n",
      "9/9 [==============================] - 0s 11ms/step - loss: 1.8374e-04 - val_loss: 4.7440e-06\n",
      "Epoch 83/100\n",
      "9/9 [==============================] - 0s 11ms/step - loss: 2.0324e-04 - val_loss: 2.2400e-05\n",
      "Epoch 84/100\n",
      "9/9 [==============================] - 0s 11ms/step - loss: 2.0088e-04 - val_loss: 2.2232e-05\n",
      "Epoch 85/100\n",
      "9/9 [==============================] - 0s 11ms/step - loss: 2.1934e-04 - val_loss: 9.2209e-06\n",
      "Epoch 86/100\n",
      "9/9 [==============================] - 0s 12ms/step - loss: 2.0175e-04 - val_loss: 3.3711e-05\n",
      "Epoch 87/100\n",
      "9/9 [==============================] - 0s 12ms/step - loss: 2.1286e-04 - val_loss: 2.0217e-05\n",
      "Epoch 88/100\n",
      "9/9 [==============================] - 0s 11ms/step - loss: 2.1220e-04 - val_loss: 1.7820e-05\n",
      "Epoch 89/100\n",
      "9/9 [==============================] - 0s 11ms/step - loss: 2.0708e-04 - val_loss: 1.4230e-05\n",
      "Epoch 90/100\n",
      "9/9 [==============================] - 0s 11ms/step - loss: 1.7521e-04 - val_loss: 1.1829e-05\n",
      "Epoch 91/100\n",
      "9/9 [==============================] - 0s 11ms/step - loss: 1.8609e-04 - val_loss: 1.1731e-05\n",
      "Epoch 92/100\n",
      "9/9 [==============================] - 0s 11ms/step - loss: 1.9513e-04 - val_loss: 1.3598e-05\n",
      "Epoch 93/100\n",
      "9/9 [==============================] - 0s 11ms/step - loss: 1.9316e-04 - val_loss: 1.4393e-05\n",
      "Epoch 94/100\n",
      "9/9 [==============================] - 0s 12ms/step - loss: 1.8292e-04 - val_loss: 5.9648e-06\n",
      "Epoch 95/100\n",
      "9/9 [==============================] - 0s 13ms/step - loss: 1.6508e-04 - val_loss: 1.5867e-05\n",
      "Epoch 96/100\n",
      "9/9 [==============================] - 0s 12ms/step - loss: 1.8772e-04 - val_loss: 1.5768e-05\n",
      "Epoch 97/100\n",
      "9/9 [==============================] - 0s 11ms/step - loss: 1.8379e-04 - val_loss: 1.4633e-05\n",
      "Epoch 98/100\n",
      "9/9 [==============================] - 0s 11ms/step - loss: 1.9293e-04 - val_loss: 1.8425e-05\n",
      "Epoch 99/100\n",
      "9/9 [==============================] - 0s 11ms/step - loss: 1.9360e-04 - val_loss: 1.6705e-05\n",
      "Epoch 100/100\n",
      "9/9 [==============================] - 0s 12ms/step - loss: 1.7207e-04 - val_loss: 1.3992e-05\n",
      "37/37 [==============================] - 0s 4ms/step - loss: 0.0015\n",
      "0.0015274693723767996\n"
     ]
    }
   ],
   "source": [
    "model.fit(x=X_train, y=y_train, batch_size=32, epochs=100, shuffle=True, validation_split=0.1)\n",
    "evaluation = model.evaluate(X_test, y_test)\n",
    "print(evaluation)"
   ]
  },
  {
   "cell_type": "markdown",
   "id": "2832d216",
   "metadata": {},
   "source": [
    "model.predict returns normalised values as we mentioned before. Now we scale them back up using the y_normaliser from above."
   ]
  },
  {
   "cell_type": "code",
   "execution_count": 37,
   "id": "8040d2c5",
   "metadata": {},
   "outputs": [],
   "source": [
    "y_pred = model.predict(X_test)\n",
    "y_pred = y_normaliser.inverse_transform(y_pred)\n",
    "\n",
    "# also getting predictions for the entire dataset, just to see how it performs\n",
    "y_hat = model.predict(data_histories_normalised)\n",
    "y_hat = y_normaliser.inverse_transform(y_pred)"
   ]
  },
  {
   "cell_type": "markdown",
   "id": "65d53e0b",
   "metadata": {},
   "source": [
    "Let's check if the number of unscaled_y_test values equals y_pred values"
   ]
  },
  {
   "cell_type": "code",
   "execution_count": 38,
   "id": "e1f651bc",
   "metadata": {},
   "outputs": [
    {
     "data": {
      "text/plain": [
       "True"
      ]
     },
     "execution_count": 38,
     "metadata": {},
     "output_type": "execute_result"
    }
   ],
   "source": [
    "unscaled_y_test.shape == y_pred.shape"
   ]
  },
  {
   "cell_type": "markdown",
   "id": "01b98663",
   "metadata": {},
   "source": [
    "Now let's check the mean squared error of our model"
   ]
  },
  {
   "cell_type": "code",
   "execution_count": 53,
   "id": "e15b29d4",
   "metadata": {},
   "outputs": [],
   "source": [
    "from sklearn.metrics import mean_squared_error,r2_score"
   ]
  },
  {
   "cell_type": "code",
   "execution_count": 54,
   "id": "25c347e0",
   "metadata": {},
   "outputs": [
    {
     "name": "stdout",
     "output_type": "stream",
     "text": [
      "Root mean squared error:  2514.202579094088\n",
      "R2 score:  0.9824330417262048\n"
     ]
    }
   ],
   "source": [
    "# If squared True returns MSE value, if False returns RMSE value.\n",
    "rmse = mean_squared_error(unscaled_y_test, y_pred,squared=False)\n",
    "r2 = r2_score(unscaled_y_test, y_pred)\n",
    "print('Root mean squared error: ', rmse)\n",
    "print('R2 score: ', r2)"
   ]
  },
  {
   "cell_type": "code",
   "execution_count": 49,
   "id": "90e289d5",
   "metadata": {},
   "outputs": [
    {
     "data": {
      "image/png": "[encoded data removed]",
      "text/plain": [
       "<Figure size 432x288 with 1 Axes>"
      ]
     },
     "metadata": {
      "needs_background": "light"
     },
     "output_type": "display_data"
    }
   ],
   "source": [
    "#Predicted vs True Close Value – LSTM\n",
    "plt.plot(unscaled_y_test, label='True Value')\n",
    "plt.plot(y_pred, label='LSTM Value')\n",
    "plt.title('Prediction by LSTM')\n",
    "plt.xlabel('Time Scale')\n",
    "plt.ylabel('Scaled USD')\n",
    "plt.legend()\n",
    "plt.show()"
   ]
  }
 ],
 "metadata": {
  "kernelspec": {
   "display_name": "Python 3 (ipykernel)",
   "language": "python",
   "name": "python3"
  },
  "language_info": {
   "codemirror_mode": {
    "name": "ipython",
    "version": 3
   },
   "file_extension": ".py",
   "mimetype": "text/x-python",
   "name": "python",
   "nbconvert_exporter": "python",
   "pygments_lexer": "ipython3",
   "version": "3.8.12"
  }
 },
 "nbformat": 4,
 "nbformat_minor": 5
}
