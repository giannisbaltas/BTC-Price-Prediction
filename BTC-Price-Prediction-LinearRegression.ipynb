{
 "cells": [
  {
   "cell_type": "markdown",
   "id": "3300a42f",
   "metadata": {},
   "source": [
    "### Importing Needed packages"
   ]
  },
  {
   "cell_type": "code",
   "execution_count": 2,
   "id": "e8812130",
   "metadata": {},
   "outputs": [],
   "source": [
    "import pandas as pd\n",
    "import matplotlib.pyplot as plt\n",
    "import pylab as pl\n",
    "import numpy as np\n",
    "%matplotlib inline"
   ]
  },
  {
   "cell_type": "markdown",
   "id": "b03efa18",
   "metadata": {},
   "source": [
    "### Reading the Data in"
   ]
  },
  {
   "cell_type": "code",
   "execution_count": 3,
   "id": "38e5237e",
   "metadata": {},
   "outputs": [
    {
     "name": "stdout",
     "output_type": "stream",
     "text": [
      "(1462, 7)\n"
     ]
    },
    {
     "data": {
      "text/html": [
       "<div>\n",
       "<style scoped>\n",
       "    .dataframe tbody tr th:only-of-type {\n",
       "        vertical-align: middle;\n",
       "    }\n",
       "\n",
       "    .dataframe tbody tr th {\n",
       "        vertical-align: top;\n",
       "    }\n",
       "\n",
       "    .dataframe thead th {\n",
       "        text-align: right;\n",
       "    }\n",
       "</style>\n",
       "<table border=\"1\" class=\"dataframe\">\n",
       "  <thead>\n",
       "    <tr style=\"text-align: right;\">\n",
       "      <th></th>\n",
       "      <th>Date</th>\n",
       "      <th>Open</th>\n",
       "      <th>High</th>\n",
       "      <th>Low</th>\n",
       "      <th>Close</th>\n",
       "      <th>Adj Close</th>\n",
       "      <th>Volume</th>\n",
       "    </tr>\n",
       "  </thead>\n",
       "  <tbody>\n",
       "    <tr>\n",
       "      <th>0</th>\n",
       "      <td>2017-12-27</td>\n",
       "      <td>16163.500000</td>\n",
       "      <td>16930.900391</td>\n",
       "      <td>15114.299805</td>\n",
       "      <td>15838.500000</td>\n",
       "      <td>15838.500000</td>\n",
       "      <td>12487600128</td>\n",
       "    </tr>\n",
       "    <tr>\n",
       "      <th>1</th>\n",
       "      <td>2017-12-28</td>\n",
       "      <td>15864.099609</td>\n",
       "      <td>15888.400391</td>\n",
       "      <td>13937.299805</td>\n",
       "      <td>14606.500000</td>\n",
       "      <td>14606.500000</td>\n",
       "      <td>12336499712</td>\n",
       "    </tr>\n",
       "    <tr>\n",
       "      <th>2</th>\n",
       "      <td>2017-12-29</td>\n",
       "      <td>14695.799805</td>\n",
       "      <td>15279.000000</td>\n",
       "      <td>14307.000000</td>\n",
       "      <td>14656.200195</td>\n",
       "      <td>14656.200195</td>\n",
       "      <td>13025500160</td>\n",
       "    </tr>\n",
       "    <tr>\n",
       "      <th>3</th>\n",
       "      <td>2017-12-30</td>\n",
       "      <td>14681.900391</td>\n",
       "      <td>14681.900391</td>\n",
       "      <td>12350.099609</td>\n",
       "      <td>12952.200195</td>\n",
       "      <td>12952.200195</td>\n",
       "      <td>14452599808</td>\n",
       "    </tr>\n",
       "    <tr>\n",
       "      <th>4</th>\n",
       "      <td>2017-12-31</td>\n",
       "      <td>12897.700195</td>\n",
       "      <td>14377.400391</td>\n",
       "      <td>12755.599609</td>\n",
       "      <td>14156.400391</td>\n",
       "      <td>14156.400391</td>\n",
       "      <td>12136299520</td>\n",
       "    </tr>\n",
       "    <tr>\n",
       "      <th>5</th>\n",
       "      <td>2018-01-01</td>\n",
       "      <td>14112.200195</td>\n",
       "      <td>14112.200195</td>\n",
       "      <td>13154.700195</td>\n",
       "      <td>13657.200195</td>\n",
       "      <td>13657.200195</td>\n",
       "      <td>10291200000</td>\n",
       "    </tr>\n",
       "    <tr>\n",
       "      <th>6</th>\n",
       "      <td>2018-01-02</td>\n",
       "      <td>13625.000000</td>\n",
       "      <td>15444.599609</td>\n",
       "      <td>13163.599609</td>\n",
       "      <td>14982.099609</td>\n",
       "      <td>14982.099609</td>\n",
       "      <td>16846600192</td>\n",
       "    </tr>\n",
       "    <tr>\n",
       "      <th>7</th>\n",
       "      <td>2018-01-03</td>\n",
       "      <td>14978.200195</td>\n",
       "      <td>15572.799805</td>\n",
       "      <td>14844.500000</td>\n",
       "      <td>15201.000000</td>\n",
       "      <td>15201.000000</td>\n",
       "      <td>16871900160</td>\n",
       "    </tr>\n",
       "    <tr>\n",
       "      <th>8</th>\n",
       "      <td>2018-01-04</td>\n",
       "      <td>15270.700195</td>\n",
       "      <td>15739.700195</td>\n",
       "      <td>14522.200195</td>\n",
       "      <td>15599.200195</td>\n",
       "      <td>15599.200195</td>\n",
       "      <td>21783199744</td>\n",
       "    </tr>\n",
       "    <tr>\n",
       "      <th>9</th>\n",
       "      <td>2018-01-05</td>\n",
       "      <td>15477.200195</td>\n",
       "      <td>17705.199219</td>\n",
       "      <td>15202.799805</td>\n",
       "      <td>17429.500000</td>\n",
       "      <td>17429.500000</td>\n",
       "      <td>23840899072</td>\n",
       "    </tr>\n",
       "  </tbody>\n",
       "</table>\n",
       "</div>"
      ],
      "text/plain": [
       "         Date          Open          High           Low         Close  \\\n",
       "0  2017-12-27  16163.500000  16930.900391  15114.299805  15838.500000   \n",
       "1  2017-12-28  15864.099609  15888.400391  13937.299805  14606.500000   \n",
       "2  2017-12-29  14695.799805  15279.000000  14307.000000  14656.200195   \n",
       "3  2017-12-30  14681.900391  14681.900391  12350.099609  12952.200195   \n",
       "4  2017-12-31  12897.700195  14377.400391  12755.599609  14156.400391   \n",
       "5  2018-01-01  14112.200195  14112.200195  13154.700195  13657.200195   \n",
       "6  2018-01-02  13625.000000  15444.599609  13163.599609  14982.099609   \n",
       "7  2018-01-03  14978.200195  15572.799805  14844.500000  15201.000000   \n",
       "8  2018-01-04  15270.700195  15739.700195  14522.200195  15599.200195   \n",
       "9  2018-01-05  15477.200195  17705.199219  15202.799805  17429.500000   \n",
       "\n",
       "      Adj Close       Volume  \n",
       "0  15838.500000  12487600128  \n",
       "1  14606.500000  12336499712  \n",
       "2  14656.200195  13025500160  \n",
       "3  12952.200195  14452599808  \n",
       "4  14156.400391  12136299520  \n",
       "5  13657.200195  10291200000  \n",
       "6  14982.099609  16846600192  \n",
       "7  15201.000000  16871900160  \n",
       "8  15599.200195  21783199744  \n",
       "9  17429.500000  23840899072  "
      ]
     },
     "execution_count": 3,
     "metadata": {},
     "output_type": "execute_result"
    }
   ],
   "source": [
    "df = pd.read_csv(\"btc-usd.csv\")\n",
    "\n",
    "# take a look at the dataset\n",
    "print(df.shape)\n",
    "df.head(10)"
   ]
  },
  {
   "cell_type": "code",
   "execution_count": 4,
   "id": "ff2ec205",
   "metadata": {
    "scrolled": false
   },
   "outputs": [
    {
     "data": {
      "text/html": [
       "<div>\n",
       "<style scoped>\n",
       "    .dataframe tbody tr th:only-of-type {\n",
       "        vertical-align: middle;\n",
       "    }\n",
       "\n",
       "    .dataframe tbody tr th {\n",
       "        vertical-align: top;\n",
       "    }\n",
       "\n",
       "    .dataframe thead th {\n",
       "        text-align: right;\n",
       "    }\n",
       "</style>\n",
       "<table border=\"1\" class=\"dataframe\">\n",
       "  <thead>\n",
       "    <tr style=\"text-align: right;\">\n",
       "      <th></th>\n",
       "      <th>Date</th>\n",
       "      <th>Open</th>\n",
       "      <th>High</th>\n",
       "      <th>Low</th>\n",
       "      <th>Close</th>\n",
       "      <th>Adj Close</th>\n",
       "      <th>Volume</th>\n",
       "    </tr>\n",
       "  </thead>\n",
       "  <tbody>\n",
       "    <tr>\n",
       "      <th>1452</th>\n",
       "      <td>2021-12-18</td>\n",
       "      <td>46219.253906</td>\n",
       "      <td>47313.828125</td>\n",
       "      <td>45598.441406</td>\n",
       "      <td>46848.777344</td>\n",
       "      <td>46848.777344</td>\n",
       "      <td>26098292690</td>\n",
       "    </tr>\n",
       "    <tr>\n",
       "      <th>1453</th>\n",
       "      <td>2021-12-19</td>\n",
       "      <td>46853.867188</td>\n",
       "      <td>48089.664063</td>\n",
       "      <td>46502.953125</td>\n",
       "      <td>46707.015625</td>\n",
       "      <td>46707.015625</td>\n",
       "      <td>25154053861</td>\n",
       "    </tr>\n",
       "    <tr>\n",
       "      <th>1454</th>\n",
       "      <td>2021-12-20</td>\n",
       "      <td>46707.062500</td>\n",
       "      <td>47401.718750</td>\n",
       "      <td>45579.808594</td>\n",
       "      <td>46880.277344</td>\n",
       "      <td>46880.277344</td>\n",
       "      <td>30961902129</td>\n",
       "    </tr>\n",
       "    <tr>\n",
       "      <th>1455</th>\n",
       "      <td>2021-12-21</td>\n",
       "      <td>46886.078125</td>\n",
       "      <td>49300.917969</td>\n",
       "      <td>46698.773438</td>\n",
       "      <td>48936.613281</td>\n",
       "      <td>48936.613281</td>\n",
       "      <td>27055803928</td>\n",
       "    </tr>\n",
       "    <tr>\n",
       "      <th>1456</th>\n",
       "      <td>2021-12-22</td>\n",
       "      <td>48937.097656</td>\n",
       "      <td>49544.796875</td>\n",
       "      <td>48450.941406</td>\n",
       "      <td>48628.511719</td>\n",
       "      <td>48628.511719</td>\n",
       "      <td>24447979559</td>\n",
       "    </tr>\n",
       "    <tr>\n",
       "      <th>1457</th>\n",
       "      <td>2021-12-23</td>\n",
       "      <td>48626.343750</td>\n",
       "      <td>51332.339844</td>\n",
       "      <td>48065.835938</td>\n",
       "      <td>50784.539063</td>\n",
       "      <td>50784.539063</td>\n",
       "      <td>28223878108</td>\n",
       "    </tr>\n",
       "    <tr>\n",
       "      <th>1458</th>\n",
       "      <td>2021-12-24</td>\n",
       "      <td>50806.050781</td>\n",
       "      <td>51814.027344</td>\n",
       "      <td>50514.496094</td>\n",
       "      <td>50822.195313</td>\n",
       "      <td>50822.195313</td>\n",
       "      <td>24367912228</td>\n",
       "    </tr>\n",
       "    <tr>\n",
       "      <th>1459</th>\n",
       "      <td>2021-12-25</td>\n",
       "      <td>50854.917969</td>\n",
       "      <td>51176.597656</td>\n",
       "      <td>50236.707031</td>\n",
       "      <td>50429.859375</td>\n",
       "      <td>50429.859375</td>\n",
       "      <td>19030650914</td>\n",
       "    </tr>\n",
       "    <tr>\n",
       "      <th>1460</th>\n",
       "      <td>2021-12-26</td>\n",
       "      <td>50428.691406</td>\n",
       "      <td>51196.378906</td>\n",
       "      <td>49623.105469</td>\n",
       "      <td>50809.515625</td>\n",
       "      <td>50809.515625</td>\n",
       "      <td>20964372926</td>\n",
       "    </tr>\n",
       "    <tr>\n",
       "      <th>1461</th>\n",
       "      <td>2021-12-27</td>\n",
       "      <td>50847.507813</td>\n",
       "      <td>51133.164063</td>\n",
       "      <td>50512.203125</td>\n",
       "      <td>50863.812500</td>\n",
       "      <td>50863.812500</td>\n",
       "      <td>20899280896</td>\n",
       "    </tr>\n",
       "  </tbody>\n",
       "</table>\n",
       "</div>"
      ],
      "text/plain": [
       "            Date          Open          High           Low         Close  \\\n",
       "1452  2021-12-18  46219.253906  47313.828125  45598.441406  46848.777344   \n",
       "1453  2021-12-19  46853.867188  48089.664063  46502.953125  46707.015625   \n",
       "1454  2021-12-20  46707.062500  47401.718750  45579.808594  46880.277344   \n",
       "1455  2021-12-21  46886.078125  49300.917969  46698.773438  48936.613281   \n",
       "1456  2021-12-22  48937.097656  49544.796875  48450.941406  48628.511719   \n",
       "1457  2021-12-23  48626.343750  51332.339844  48065.835938  50784.539063   \n",
       "1458  2021-12-24  50806.050781  51814.027344  50514.496094  50822.195313   \n",
       "1459  2021-12-25  50854.917969  51176.597656  50236.707031  50429.859375   \n",
       "1460  2021-12-26  50428.691406  51196.378906  49623.105469  50809.515625   \n",
       "1461  2021-12-27  50847.507813  51133.164063  50512.203125  50863.812500   \n",
       "\n",
       "         Adj Close       Volume  \n",
       "1452  46848.777344  26098292690  \n",
       "1453  46707.015625  25154053861  \n",
       "1454  46880.277344  30961902129  \n",
       "1455  48936.613281  27055803928  \n",
       "1456  48628.511719  24447979559  \n",
       "1457  50784.539063  28223878108  \n",
       "1458  50822.195313  24367912228  \n",
       "1459  50429.859375  19030650914  \n",
       "1460  50809.515625  20964372926  \n",
       "1461  50863.812500  20899280896  "
      ]
     },
     "execution_count": 4,
     "metadata": {},
     "output_type": "execute_result"
    }
   ],
   "source": [
    "df.tail(10)"
   ]
  },
  {
   "cell_type": "markdown",
   "id": "c5f39699",
   "metadata": {},
   "source": [
    "Let's see how many null values there are in the dataset"
   ]
  },
  {
   "cell_type": "code",
   "execution_count": 5,
   "id": "0e30dbb9",
   "metadata": {},
   "outputs": [
    {
     "data": {
      "text/plain": [
       "Date         0\n",
       "Open         0\n",
       "High         0\n",
       "Low          0\n",
       "Close        0\n",
       "Adj Close    0\n",
       "Volume       0\n",
       "dtype: int64"
      ]
     },
     "execution_count": 5,
     "metadata": {},
     "output_type": "execute_result"
    }
   ],
   "source": [
    "df.isnull().sum()"
   ]
  },
  {
   "cell_type": "markdown",
   "id": "a535a4eb",
   "metadata": {},
   "source": [
    "### Data exploration\n",
    "Let's first have a descriptive exploration on our data."
   ]
  },
  {
   "cell_type": "code",
   "execution_count": 6,
   "id": "d4e86480",
   "metadata": {
    "scrolled": false
   },
   "outputs": [
    {
     "data": {
      "text/html": [
       "<div>\n",
       "<style scoped>\n",
       "    .dataframe tbody tr th:only-of-type {\n",
       "        vertical-align: middle;\n",
       "    }\n",
       "\n",
       "    .dataframe tbody tr th {\n",
       "        vertical-align: top;\n",
       "    }\n",
       "\n",
       "    .dataframe thead th {\n",
       "        text-align: right;\n",
       "    }\n",
       "</style>\n",
       "<table border=\"1\" class=\"dataframe\">\n",
       "  <thead>\n",
       "    <tr style=\"text-align: right;\">\n",
       "      <th></th>\n",
       "      <th>Open</th>\n",
       "      <th>High</th>\n",
       "      <th>Low</th>\n",
       "      <th>Close</th>\n",
       "      <th>Adj Close</th>\n",
       "      <th>Volume</th>\n",
       "    </tr>\n",
       "  </thead>\n",
       "  <tbody>\n",
       "    <tr>\n",
       "      <th>count</th>\n",
       "      <td>1462.000000</td>\n",
       "      <td>1462.000000</td>\n",
       "      <td>1462.000000</td>\n",
       "      <td>1462.000000</td>\n",
       "      <td>1462.000000</td>\n",
       "      <td>1.462000e+03</td>\n",
       "    </tr>\n",
       "    <tr>\n",
       "      <th>mean</th>\n",
       "      <td>18263.281176</td>\n",
       "      <td>18751.984190</td>\n",
       "      <td>17720.490465</td>\n",
       "      <td>18283.955976</td>\n",
       "      <td>18283.955976</td>\n",
       "      <td>2.568541e+10</td>\n",
       "    </tr>\n",
       "    <tr>\n",
       "      <th>std</th>\n",
       "      <td>17678.500204</td>\n",
       "      <td>18172.781829</td>\n",
       "      <td>17114.673795</td>\n",
       "      <td>17693.065539</td>\n",
       "      <td>17693.065539</td>\n",
       "      <td>2.116916e+10</td>\n",
       "    </tr>\n",
       "    <tr>\n",
       "      <th>min</th>\n",
       "      <td>3236.274658</td>\n",
       "      <td>3275.377930</td>\n",
       "      <td>3191.303467</td>\n",
       "      <td>3236.761719</td>\n",
       "      <td>3236.761719</td>\n",
       "      <td>2.923670e+09</td>\n",
       "    </tr>\n",
       "    <tr>\n",
       "      <th>25%</th>\n",
       "      <td>7117.741088</td>\n",
       "      <td>7277.625610</td>\n",
       "      <td>6899.632325</td>\n",
       "      <td>7116.905029</td>\n",
       "      <td>7116.905029</td>\n",
       "      <td>8.085328e+09</td>\n",
       "    </tr>\n",
       "    <tr>\n",
       "      <th>50%</th>\n",
       "      <td>9474.383789</td>\n",
       "      <td>9653.905274</td>\n",
       "      <td>9266.268555</td>\n",
       "      <td>9476.459473</td>\n",
       "      <td>9476.459473</td>\n",
       "      <td>2.186804e+10</td>\n",
       "    </tr>\n",
       "    <tr>\n",
       "      <th>75%</th>\n",
       "      <td>25879.870606</td>\n",
       "      <td>27207.558106</td>\n",
       "      <td>25572.749512</td>\n",
       "      <td>26395.851562</td>\n",
       "      <td>26395.851562</td>\n",
       "      <td>3.619186e+10</td>\n",
       "    </tr>\n",
       "    <tr>\n",
       "      <th>max</th>\n",
       "      <td>67549.734375</td>\n",
       "      <td>68789.625000</td>\n",
       "      <td>66382.062500</td>\n",
       "      <td>67566.828125</td>\n",
       "      <td>67566.828125</td>\n",
       "      <td>3.509679e+11</td>\n",
       "    </tr>\n",
       "  </tbody>\n",
       "</table>\n",
       "</div>"
      ],
      "text/plain": [
       "               Open          High           Low         Close     Adj Close  \\\n",
       "count   1462.000000   1462.000000   1462.000000   1462.000000   1462.000000   \n",
       "mean   18263.281176  18751.984190  17720.490465  18283.955976  18283.955976   \n",
       "std    17678.500204  18172.781829  17114.673795  17693.065539  17693.065539   \n",
       "min     3236.274658   3275.377930   3191.303467   3236.761719   3236.761719   \n",
       "25%     7117.741088   7277.625610   6899.632325   7116.905029   7116.905029   \n",
       "50%     9474.383789   9653.905274   9266.268555   9476.459473   9476.459473   \n",
       "75%    25879.870606  27207.558106  25572.749512  26395.851562  26395.851562   \n",
       "max    67549.734375  68789.625000  66382.062500  67566.828125  67566.828125   \n",
       "\n",
       "             Volume  \n",
       "count  1.462000e+03  \n",
       "mean   2.568541e+10  \n",
       "std    2.116916e+10  \n",
       "min    2.923670e+09  \n",
       "25%    8.085328e+09  \n",
       "50%    2.186804e+10  \n",
       "75%    3.619186e+10  \n",
       "max    3.509679e+11  "
      ]
     },
     "execution_count": 6,
     "metadata": {},
     "output_type": "execute_result"
    }
   ],
   "source": [
    "# summarize the data\n",
    "df.describe()"
   ]
  },
  {
   "cell_type": "markdown",
   "id": "8b8209b9",
   "metadata": {},
   "source": [
    "Let's select some of these features to explore more, as Close and Adj Close in our dataset are the same 1:1"
   ]
  },
  {
   "cell_type": "code",
   "execution_count": 7,
   "id": "fa169c71",
   "metadata": {},
   "outputs": [
    {
     "data": {
      "text/html": [
       "<div>\n",
       "<style scoped>\n",
       "    .dataframe tbody tr th:only-of-type {\n",
       "        vertical-align: middle;\n",
       "    }\n",
       "\n",
       "    .dataframe tbody tr th {\n",
       "        vertical-align: top;\n",
       "    }\n",
       "\n",
       "    .dataframe thead th {\n",
       "        text-align: right;\n",
       "    }\n",
       "</style>\n",
       "<table border=\"1\" class=\"dataframe\">\n",
       "  <thead>\n",
       "    <tr style=\"text-align: right;\">\n",
       "      <th></th>\n",
       "      <th>Open</th>\n",
       "      <th>High</th>\n",
       "      <th>Low</th>\n",
       "      <th>Close</th>\n",
       "      <th>Volume</th>\n",
       "    </tr>\n",
       "  </thead>\n",
       "  <tbody>\n",
       "    <tr>\n",
       "      <th>0</th>\n",
       "      <td>16163.500000</td>\n",
       "      <td>16930.900391</td>\n",
       "      <td>15114.299805</td>\n",
       "      <td>15838.500000</td>\n",
       "      <td>12487600128</td>\n",
       "    </tr>\n",
       "    <tr>\n",
       "      <th>1</th>\n",
       "      <td>15864.099609</td>\n",
       "      <td>15888.400391</td>\n",
       "      <td>13937.299805</td>\n",
       "      <td>14606.500000</td>\n",
       "      <td>12336499712</td>\n",
       "    </tr>\n",
       "    <tr>\n",
       "      <th>2</th>\n",
       "      <td>14695.799805</td>\n",
       "      <td>15279.000000</td>\n",
       "      <td>14307.000000</td>\n",
       "      <td>14656.200195</td>\n",
       "      <td>13025500160</td>\n",
       "    </tr>\n",
       "    <tr>\n",
       "      <th>3</th>\n",
       "      <td>14681.900391</td>\n",
       "      <td>14681.900391</td>\n",
       "      <td>12350.099609</td>\n",
       "      <td>12952.200195</td>\n",
       "      <td>14452599808</td>\n",
       "    </tr>\n",
       "    <tr>\n",
       "      <th>4</th>\n",
       "      <td>12897.700195</td>\n",
       "      <td>14377.400391</td>\n",
       "      <td>12755.599609</td>\n",
       "      <td>14156.400391</td>\n",
       "      <td>12136299520</td>\n",
       "    </tr>\n",
       "    <tr>\n",
       "      <th>5</th>\n",
       "      <td>14112.200195</td>\n",
       "      <td>14112.200195</td>\n",
       "      <td>13154.700195</td>\n",
       "      <td>13657.200195</td>\n",
       "      <td>10291200000</td>\n",
       "    </tr>\n",
       "    <tr>\n",
       "      <th>6</th>\n",
       "      <td>13625.000000</td>\n",
       "      <td>15444.599609</td>\n",
       "      <td>13163.599609</td>\n",
       "      <td>14982.099609</td>\n",
       "      <td>16846600192</td>\n",
       "    </tr>\n",
       "    <tr>\n",
       "      <th>7</th>\n",
       "      <td>14978.200195</td>\n",
       "      <td>15572.799805</td>\n",
       "      <td>14844.500000</td>\n",
       "      <td>15201.000000</td>\n",
       "      <td>16871900160</td>\n",
       "    </tr>\n",
       "  </tbody>\n",
       "</table>\n",
       "</div>"
      ],
      "text/plain": [
       "           Open          High           Low         Close       Volume\n",
       "0  16163.500000  16930.900391  15114.299805  15838.500000  12487600128\n",
       "1  15864.099609  15888.400391  13937.299805  14606.500000  12336499712\n",
       "2  14695.799805  15279.000000  14307.000000  14656.200195  13025500160\n",
       "3  14681.900391  14681.900391  12350.099609  12952.200195  14452599808\n",
       "4  12897.700195  14377.400391  12755.599609  14156.400391  12136299520\n",
       "5  14112.200195  14112.200195  13154.700195  13657.200195  10291200000\n",
       "6  13625.000000  15444.599609  13163.599609  14982.099609  16846600192\n",
       "7  14978.200195  15572.799805  14844.500000  15201.000000  16871900160"
      ]
     },
     "execution_count": 7,
     "metadata": {},
     "output_type": "execute_result"
    }
   ],
   "source": [
    "cdf = df[['Open','High','Low','Close','Volume']]\n",
    "cdf.head(8)"
   ]
  },
  {
   "cell_type": "markdown",
   "id": "fd4c7db3",
   "metadata": {},
   "source": [
    "Let's plot each of these features:"
   ]
  },
  {
   "cell_type": "code",
   "execution_count": 8,
   "id": "874dbf80",
   "metadata": {
    "scrolled": false
   },
   "outputs": [
    {
     "data": {
      "image/png": "[encoded data removed]",
      "text/plain": [
       "<Figure size 432x288 with 6 Axes>"
      ]
     },
     "metadata": {
      "needs_background": "light"
     },
     "output_type": "display_data"
    }
   ],
   "source": [
    "viz = cdf[['Open','High','Low','Close','Volume']]\n",
    "viz.hist()\n",
    "plt.show()"
   ]
  },
  {
   "cell_type": "markdown",
   "id": "42dcb7fc",
   "metadata": {},
   "source": [
    "Now, let's plot each of them against the Close, to see how linear their relationship is:"
   ]
  },
  {
   "cell_type": "code",
   "execution_count": 9,
   "id": "c528e6de",
   "metadata": {},
   "outputs": [
    {
     "data": {
      "image/png": "[encoded data removed]",
      "text/plain": [
       "<Figure size 432x288 with 1 Axes>"
      ]
     },
     "metadata": {
      "needs_background": "light"
     },
     "output_type": "display_data"
    }
   ],
   "source": [
    "plt.scatter(cdf.Open, cdf.Close, color='blue')\n",
    "plt.xlabel('Open')\n",
    "plt.ylabel('Close')\n",
    "plt.show()"
   ]
  },
  {
   "cell_type": "code",
   "execution_count": 10,
   "id": "82917c5a",
   "metadata": {
    "scrolled": true
   },
   "outputs": [
    {
     "data": {
      "image/png": "[encoded data removed]",
      "text/plain": [
       "<Figure size 432x288 with 1 Axes>"
      ]
     },
     "metadata": {
      "needs_background": "light"
     },
     "output_type": "display_data"
    }
   ],
   "source": [
    "plt.scatter(cdf.High, cdf.Close, color='blue')\n",
    "plt.xlabel('High')\n",
    "plt.ylabel('Close')\n",
    "plt.show()"
   ]
  },
  {
   "cell_type": "code",
   "execution_count": 11,
   "id": "4d7ce785",
   "metadata": {},
   "outputs": [
    {
     "data": {
      "image/png": "[encoded data removed]",
      "text/plain": [
       "<Figure size 432x288 with 1 Axes>"
      ]
     },
     "metadata": {
      "needs_background": "light"
     },
     "output_type": "display_data"
    }
   ],
   "source": [
    "plt.scatter(cdf.Low, cdf.Close, color='blue')\n",
    "plt.xlabel('Low')\n",
    "plt.ylabel('Close')\n",
    "plt.show()"
   ]
  },
  {
   "cell_type": "code",
   "execution_count": 12,
   "id": "049915be",
   "metadata": {
    "scrolled": true
   },
   "outputs": [
    {
     "data": {
      "image/png": "[encoded data removed]",
      "text/plain": [
       "<Figure size 432x288 with 1 Axes>"
      ]
     },
     "metadata": {
      "needs_background": "light"
     },
     "output_type": "display_data"
    }
   ],
   "source": [
    "plt.scatter(cdf.Volume, cdf.Close, color='blue')\n",
    "plt.xlabel('Volume')\n",
    "plt.ylabel('Close')\n",
    "plt.show()"
   ]
  },
  {
   "cell_type": "code",
   "execution_count": 13,
   "id": "31765089",
   "metadata": {
    "scrolled": true
   },
   "outputs": [
    {
     "data": {
      "text/plain": [
       "<AxesSubplot:>"
      ]
     },
     "execution_count": 13,
     "metadata": {},
     "output_type": "execute_result"
    },
    {
     "data": {
      "image/png": "[encoded data removed]",
      "text/plain": [
       "<Figure size 432x288 with 1 Axes>"
      ]
     },
     "metadata": {
      "needs_background": "light"
     },
     "output_type": "display_data"
    }
   ],
   "source": [
    "df['Close'].plot()"
   ]
  },
  {
   "cell_type": "markdown",
   "id": "92b06718",
   "metadata": {},
   "source": [
    "### Creating train and test dataset\n",
    "Let's split our dataset into train and test sets. 80% of the entire dataset will be used for training and 20% for the testing. We create a mask to select random rows using np.random.rand() function:"
   ]
  },
  {
   "cell_type": "code",
   "execution_count": 14,
   "id": "e3180f93",
   "metadata": {},
   "outputs": [],
   "source": [
    "msk = np.random.rand(len(df)) < 0.8\n",
    "train = cdf[msk]\n",
    "test = cdf[~msk]"
   ]
  },
  {
   "cell_type": "markdown",
   "id": "20c0bcdb",
   "metadata": {},
   "source": [
    "### Multiple Linear Regression Model"
   ]
  },
  {
   "cell_type": "code",
   "execution_count": 15,
   "id": "17c12989",
   "metadata": {},
   "outputs": [
    {
     "name": "stdout",
     "output_type": "stream",
     "text": [
      "Coefficients:  [[-5.61609048e-01  9.23342869e-01  6.32470192e-01  5.76569681e-10]]\n",
      "Intercept:  [1.44436919]\n"
     ]
    }
   ],
   "source": [
    "from sklearn import linear_model\n",
    "from sklearn.metrics import mean_squared_error,r2_score\n",
    "\n",
    "regr = linear_model.LinearRegression()\n",
    "x = np.asanyarray(train[['Open','High','Low','Volume']])\n",
    "y = np.asanyarray(train[['Close']])\n",
    "regr.fit(x,y) # fit linear model\n",
    "\n",
    "# The coefficients\n",
    "print('Coefficients: ', regr.coef_)\n",
    "# The intercept\n",
    "print('Intercept: ', regr.intercept_)"
   ]
  },
  {
   "cell_type": "markdown",
   "id": "19604923",
   "metadata": {},
   "source": [
    "### Prediction"
   ]
  },
  {
   "cell_type": "markdown",
   "id": "aa8a4c1f",
   "metadata": {},
   "source": [
    "Residual sum of squares: $$RSS = \\sum_{i=1}^{n} (y-\\hat{y})^2$$"
   ]
  },
  {
   "cell_type": "code",
   "execution_count": 16,
   "id": "4fc4ca8a",
   "metadata": {},
   "outputs": [
    {
     "name": "stdout",
     "output_type": "stream",
     "text": [
      "Residual sum of squares:  157802.32408915073\n",
      "Variance score:  0.999517423560976\n",
      "\n",
      "Root mean squared error:  157802.32408915073\n",
      "R2 score:  0.999517423560976\n"
     ]
    },
    {
     "name": "stderr",
     "output_type": "stream",
     "text": [
      "C:\\Users\\Johnny\\anaconda3\\lib\\site-packages\\sklearn\\base.py:438: UserWarning: X has feature names, but LinearRegression was fitted without feature names\n",
      "  warnings.warn(\n"
     ]
    }
   ],
   "source": [
    "y_predicted = regr.predict(test[['Open','High','Low','Volume']])\n",
    "x = np.asanyarray(test[['Open','High','Low','Volume']])\n",
    "y = np.asanyarray(test[['Close']])\n",
    "\n",
    "# Residual Sum of Squares\n",
    "print(\"Residual sum of squares: \" , np.mean((y_predicted - y) ** 2))\n",
    "# Explained variance score: 1 is perfect prediction\n",
    "print(\"Variance score: \", regr.score(x,y))\n",
    "\n",
    "print()\n",
    "# Root Mean Squared Error\n",
    "rmse = mean_squared_error(y, y_predicted)\n",
    "r2 = r2_score(y, y_predicted)\n",
    "print('Root mean squared error: ', rmse)\n",
    "print('R2 score: ', r2)"
   ]
  },
  {
   "cell_type": "markdown",
   "id": "91c1de69",
   "metadata": {},
   "source": [
    "$\\texttt{explainedVariance}(y, \\hat{y}) = 1 - \\frac{Var{ y - \\hat{y}}}{Var{y}}$\\\n",
    "The best possible score is 1.0, the lower values are worse."
   ]
  },
  {
   "cell_type": "markdown",
   "id": "245949aa",
   "metadata": {},
   "source": [
    "\n",
    "### Comparing Predicted vs True Close Value - Multiple Regression Model"
   ]
  },
  {
   "cell_type": "code",
   "execution_count": 63,
   "id": "ef7c8195",
   "metadata": {},
   "outputs": [
    {
     "data": {
      "image/png": "[encoded data removed]",
      "text/plain": [
       "<Figure size 432x288 with 1 Axes>"
      ]
     },
     "metadata": {
      "needs_background": "light"
     },
     "output_type": "display_data"
    }
   ],
   "source": [
    "# Predicted vs Close value\n",
    "plt.plot(y, label='True Value')\n",
    "plt.plot(y_predicted, label='Predicted Value')\n",
    "plt.title('Prediction by Multiple Linear Regression')\n",
    "plt.xlabel('Time Scale')\n",
    "plt.ylabel('Price in USD')\n",
    "plt.legend()\n",
    "plt.show()"
   ]
  }
 ],
 "metadata": {
  "kernelspec": {
   "display_name": "Python 3 (ipykernel)",
   "language": "python",
   "name": "python3"
  },
  "language_info": {
   "codemirror_mode": {
    "name": "ipython",
    "version": 3
   },
   "file_extension": ".py",
   "mimetype": "text/x-python",
   "name": "python",
   "nbconvert_exporter": "python",
   "pygments_lexer": "ipython3",
   "version": "3.8.12"
  }
 },
 "nbformat": 4,
 "nbformat_minor": 5
}
