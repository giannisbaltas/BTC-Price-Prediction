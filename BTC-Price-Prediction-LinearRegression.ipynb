{
 "cells": [
  {
   "cell_type": "markdown",
   "id": "3300a42f",
   "metadata": {},
   "source": [
    "### Importing Needed packages"
   ]
  },
  {
   "cell_type": "code",
   "execution_count": 19,
   "id": "e8812130",
   "metadata": {},
   "outputs": [],
   "source": [
    "import pandas as pd\n",
    "import matplotlib.pyplot as plt\n",
    "import pylab as pl\n",
    "import numpy as np\n",
    "import seaborn as sns\n",
    "%matplotlib inline"
   ]
  },
  {
   "cell_type": "markdown",
   "id": "b03efa18",
   "metadata": {},
   "source": [
    "### Reading the Data in"
   ]
  },
  {
   "cell_type": "markdown",
   "id": "0d96e46a",
   "metadata": {},
   "source": [
    "The last 5 years given by Yahoo Finance are from 09/11/2017 to Present(29/12/2021)"
   ]
  },
  {
   "cell_type": "code",
   "execution_count": 2,
   "id": "38e5237e",
   "metadata": {
    "scrolled": true
   },
   "outputs": [
    {
     "name": "stdout",
     "output_type": "stream",
     "text": [
      "(1512, 7)\n"
     ]
    },
    {
     "data": {
      "text/html": [
       "<div>\n",
       "<style scoped>\n",
       "    .dataframe tbody tr th:only-of-type {\n",
       "        vertical-align: middle;\n",
       "    }\n",
       "\n",
       "    .dataframe tbody tr th {\n",
       "        vertical-align: top;\n",
       "    }\n",
       "\n",
       "    .dataframe thead th {\n",
       "        text-align: right;\n",
       "    }\n",
       "</style>\n",
       "<table border=\"1\" class=\"dataframe\">\n",
       "  <thead>\n",
       "    <tr style=\"text-align: right;\">\n",
       "      <th></th>\n",
       "      <th>Date</th>\n",
       "      <th>Open</th>\n",
       "      <th>High</th>\n",
       "      <th>Low</th>\n",
       "      <th>Close</th>\n",
       "      <th>Adj Close</th>\n",
       "      <th>Volume</th>\n",
       "    </tr>\n",
       "  </thead>\n",
       "  <tbody>\n",
       "    <tr>\n",
       "      <th>0</th>\n",
       "      <td>2017-11-09</td>\n",
       "      <td>7446.830078</td>\n",
       "      <td>7446.830078</td>\n",
       "      <td>7101.520020</td>\n",
       "      <td>7143.580078</td>\n",
       "      <td>7143.580078</td>\n",
       "      <td>3226249984</td>\n",
       "    </tr>\n",
       "    <tr>\n",
       "      <th>1</th>\n",
       "      <td>2017-11-10</td>\n",
       "      <td>7173.729980</td>\n",
       "      <td>7312.000000</td>\n",
       "      <td>6436.870117</td>\n",
       "      <td>6618.140137</td>\n",
       "      <td>6618.140137</td>\n",
       "      <td>5208249856</td>\n",
       "    </tr>\n",
       "    <tr>\n",
       "      <th>2</th>\n",
       "      <td>2017-11-11</td>\n",
       "      <td>6618.609863</td>\n",
       "      <td>6873.149902</td>\n",
       "      <td>6204.220215</td>\n",
       "      <td>6357.600098</td>\n",
       "      <td>6357.600098</td>\n",
       "      <td>4908680192</td>\n",
       "    </tr>\n",
       "    <tr>\n",
       "      <th>3</th>\n",
       "      <td>2017-11-12</td>\n",
       "      <td>6295.450195</td>\n",
       "      <td>6625.049805</td>\n",
       "      <td>5519.009766</td>\n",
       "      <td>5950.069824</td>\n",
       "      <td>5950.069824</td>\n",
       "      <td>8957349888</td>\n",
       "    </tr>\n",
       "    <tr>\n",
       "      <th>4</th>\n",
       "      <td>2017-11-13</td>\n",
       "      <td>5938.250000</td>\n",
       "      <td>6811.189941</td>\n",
       "      <td>5844.290039</td>\n",
       "      <td>6559.490234</td>\n",
       "      <td>6559.490234</td>\n",
       "      <td>6263249920</td>\n",
       "    </tr>\n",
       "    <tr>\n",
       "      <th>5</th>\n",
       "      <td>2017-11-14</td>\n",
       "      <td>6561.479980</td>\n",
       "      <td>6764.979980</td>\n",
       "      <td>6461.750000</td>\n",
       "      <td>6635.750000</td>\n",
       "      <td>6635.750000</td>\n",
       "      <td>3197110016</td>\n",
       "    </tr>\n",
       "    <tr>\n",
       "      <th>6</th>\n",
       "      <td>2017-11-15</td>\n",
       "      <td>6634.759766</td>\n",
       "      <td>7342.250000</td>\n",
       "      <td>6634.759766</td>\n",
       "      <td>7315.540039</td>\n",
       "      <td>7315.540039</td>\n",
       "      <td>4200880128</td>\n",
       "    </tr>\n",
       "    <tr>\n",
       "      <th>7</th>\n",
       "      <td>2017-11-16</td>\n",
       "      <td>7323.240234</td>\n",
       "      <td>7967.379883</td>\n",
       "      <td>7176.580078</td>\n",
       "      <td>7871.689941</td>\n",
       "      <td>7871.689941</td>\n",
       "      <td>5123809792</td>\n",
       "    </tr>\n",
       "    <tr>\n",
       "      <th>8</th>\n",
       "      <td>2017-11-17</td>\n",
       "      <td>7853.569824</td>\n",
       "      <td>8004.589844</td>\n",
       "      <td>7561.089844</td>\n",
       "      <td>7708.990234</td>\n",
       "      <td>7708.990234</td>\n",
       "      <td>4651670016</td>\n",
       "    </tr>\n",
       "    <tr>\n",
       "      <th>9</th>\n",
       "      <td>2017-11-18</td>\n",
       "      <td>7697.209961</td>\n",
       "      <td>7884.990234</td>\n",
       "      <td>7463.439941</td>\n",
       "      <td>7790.149902</td>\n",
       "      <td>7790.149902</td>\n",
       "      <td>3667190016</td>\n",
       "    </tr>\n",
       "  </tbody>\n",
       "</table>\n",
       "</div>"
      ],
      "text/plain": [
       "         Date         Open         High          Low        Close  \\\n",
       "0  2017-11-09  7446.830078  7446.830078  7101.520020  7143.580078   \n",
       "1  2017-11-10  7173.729980  7312.000000  6436.870117  6618.140137   \n",
       "2  2017-11-11  6618.609863  6873.149902  6204.220215  6357.600098   \n",
       "3  2017-11-12  6295.450195  6625.049805  5519.009766  5950.069824   \n",
       "4  2017-11-13  5938.250000  6811.189941  5844.290039  6559.490234   \n",
       "5  2017-11-14  6561.479980  6764.979980  6461.750000  6635.750000   \n",
       "6  2017-11-15  6634.759766  7342.250000  6634.759766  7315.540039   \n",
       "7  2017-11-16  7323.240234  7967.379883  7176.580078  7871.689941   \n",
       "8  2017-11-17  7853.569824  8004.589844  7561.089844  7708.990234   \n",
       "9  2017-11-18  7697.209961  7884.990234  7463.439941  7790.149902   \n",
       "\n",
       "     Adj Close      Volume  \n",
       "0  7143.580078  3226249984  \n",
       "1  6618.140137  5208249856  \n",
       "2  6357.600098  4908680192  \n",
       "3  5950.069824  8957349888  \n",
       "4  6559.490234  6263249920  \n",
       "5  6635.750000  3197110016  \n",
       "6  7315.540039  4200880128  \n",
       "7  7871.689941  5123809792  \n",
       "8  7708.990234  4651670016  \n",
       "9  7790.149902  3667190016  "
      ]
     },
     "execution_count": 2,
     "metadata": {},
     "output_type": "execute_result"
    }
   ],
   "source": [
    "df = pd.read_csv(\"btc-usd.csv\")\n",
    "\n",
    "# take a look at the dataset\n",
    "print(df.shape)\n",
    "df.head(10)"
   ]
  },
  {
   "cell_type": "code",
   "execution_count": 3,
   "id": "ff2ec205",
   "metadata": {
    "scrolled": false
   },
   "outputs": [
    {
     "data": {
      "text/html": [
       "<div>\n",
       "<style scoped>\n",
       "    .dataframe tbody tr th:only-of-type {\n",
       "        vertical-align: middle;\n",
       "    }\n",
       "\n",
       "    .dataframe tbody tr th {\n",
       "        vertical-align: top;\n",
       "    }\n",
       "\n",
       "    .dataframe thead th {\n",
       "        text-align: right;\n",
       "    }\n",
       "</style>\n",
       "<table border=\"1\" class=\"dataframe\">\n",
       "  <thead>\n",
       "    <tr style=\"text-align: right;\">\n",
       "      <th></th>\n",
       "      <th>Date</th>\n",
       "      <th>Open</th>\n",
       "      <th>High</th>\n",
       "      <th>Low</th>\n",
       "      <th>Close</th>\n",
       "      <th>Adj Close</th>\n",
       "      <th>Volume</th>\n",
       "    </tr>\n",
       "  </thead>\n",
       "  <tbody>\n",
       "    <tr>\n",
       "      <th>1502</th>\n",
       "      <td>2021-12-20</td>\n",
       "      <td>46707.062500</td>\n",
       "      <td>47401.718750</td>\n",
       "      <td>45579.808594</td>\n",
       "      <td>46880.277344</td>\n",
       "      <td>46880.277344</td>\n",
       "      <td>30961902129</td>\n",
       "    </tr>\n",
       "    <tr>\n",
       "      <th>1503</th>\n",
       "      <td>2021-12-21</td>\n",
       "      <td>46886.078125</td>\n",
       "      <td>49300.917969</td>\n",
       "      <td>46698.773438</td>\n",
       "      <td>48936.613281</td>\n",
       "      <td>48936.613281</td>\n",
       "      <td>27055803928</td>\n",
       "    </tr>\n",
       "    <tr>\n",
       "      <th>1504</th>\n",
       "      <td>2021-12-22</td>\n",
       "      <td>48937.097656</td>\n",
       "      <td>49544.796875</td>\n",
       "      <td>48450.941406</td>\n",
       "      <td>48628.511719</td>\n",
       "      <td>48628.511719</td>\n",
       "      <td>24447979559</td>\n",
       "    </tr>\n",
       "    <tr>\n",
       "      <th>1505</th>\n",
       "      <td>2021-12-23</td>\n",
       "      <td>48626.343750</td>\n",
       "      <td>51332.339844</td>\n",
       "      <td>48065.835938</td>\n",
       "      <td>50784.539063</td>\n",
       "      <td>50784.539063</td>\n",
       "      <td>28223878108</td>\n",
       "    </tr>\n",
       "    <tr>\n",
       "      <th>1506</th>\n",
       "      <td>2021-12-24</td>\n",
       "      <td>50806.050781</td>\n",
       "      <td>51814.027344</td>\n",
       "      <td>50514.496094</td>\n",
       "      <td>50822.195313</td>\n",
       "      <td>50822.195313</td>\n",
       "      <td>24367912228</td>\n",
       "    </tr>\n",
       "    <tr>\n",
       "      <th>1507</th>\n",
       "      <td>2021-12-25</td>\n",
       "      <td>50854.917969</td>\n",
       "      <td>51176.597656</td>\n",
       "      <td>50236.707031</td>\n",
       "      <td>50429.859375</td>\n",
       "      <td>50429.859375</td>\n",
       "      <td>19030650914</td>\n",
       "    </tr>\n",
       "    <tr>\n",
       "      <th>1508</th>\n",
       "      <td>2021-12-26</td>\n",
       "      <td>50428.691406</td>\n",
       "      <td>51196.378906</td>\n",
       "      <td>49623.105469</td>\n",
       "      <td>50809.515625</td>\n",
       "      <td>50809.515625</td>\n",
       "      <td>20964372926</td>\n",
       "    </tr>\n",
       "    <tr>\n",
       "      <th>1509</th>\n",
       "      <td>2021-12-27</td>\n",
       "      <td>50802.609375</td>\n",
       "      <td>51956.328125</td>\n",
       "      <td>50499.468750</td>\n",
       "      <td>50640.417969</td>\n",
       "      <td>50640.417969</td>\n",
       "      <td>24324345758</td>\n",
       "    </tr>\n",
       "    <tr>\n",
       "      <th>1510</th>\n",
       "      <td>2021-12-28</td>\n",
       "      <td>50679.859375</td>\n",
       "      <td>50679.859375</td>\n",
       "      <td>47414.210938</td>\n",
       "      <td>47588.855469</td>\n",
       "      <td>47588.855469</td>\n",
       "      <td>33430376883</td>\n",
       "    </tr>\n",
       "    <tr>\n",
       "      <th>1511</th>\n",
       "      <td>2021-12-29</td>\n",
       "      <td>47576.855469</td>\n",
       "      <td>48101.585938</td>\n",
       "      <td>46730.207031</td>\n",
       "      <td>46854.156250</td>\n",
       "      <td>46854.156250</td>\n",
       "      <td>30502799360</td>\n",
       "    </tr>\n",
       "  </tbody>\n",
       "</table>\n",
       "</div>"
      ],
      "text/plain": [
       "            Date          Open          High           Low         Close  \\\n",
       "1502  2021-12-20  46707.062500  47401.718750  45579.808594  46880.277344   \n",
       "1503  2021-12-21  46886.078125  49300.917969  46698.773438  48936.613281   \n",
       "1504  2021-12-22  48937.097656  49544.796875  48450.941406  48628.511719   \n",
       "1505  2021-12-23  48626.343750  51332.339844  48065.835938  50784.539063   \n",
       "1506  2021-12-24  50806.050781  51814.027344  50514.496094  50822.195313   \n",
       "1507  2021-12-25  50854.917969  51176.597656  50236.707031  50429.859375   \n",
       "1508  2021-12-26  50428.691406  51196.378906  49623.105469  50809.515625   \n",
       "1509  2021-12-27  50802.609375  51956.328125  50499.468750  50640.417969   \n",
       "1510  2021-12-28  50679.859375  50679.859375  47414.210938  47588.855469   \n",
       "1511  2021-12-29  47576.855469  48101.585938  46730.207031  46854.156250   \n",
       "\n",
       "         Adj Close       Volume  \n",
       "1502  46880.277344  30961902129  \n",
       "1503  48936.613281  27055803928  \n",
       "1504  48628.511719  24447979559  \n",
       "1505  50784.539063  28223878108  \n",
       "1506  50822.195313  24367912228  \n",
       "1507  50429.859375  19030650914  \n",
       "1508  50809.515625  20964372926  \n",
       "1509  50640.417969  24324345758  \n",
       "1510  47588.855469  33430376883  \n",
       "1511  46854.156250  30502799360  "
      ]
     },
     "execution_count": 3,
     "metadata": {},
     "output_type": "execute_result"
    }
   ],
   "source": [
    "df.tail(10)"
   ]
  },
  {
   "cell_type": "markdown",
   "id": "c5f39699",
   "metadata": {},
   "source": [
    "Let's see how many null values there are in the dataset"
   ]
  },
  {
   "cell_type": "code",
   "execution_count": 4,
   "id": "0e30dbb9",
   "metadata": {},
   "outputs": [
    {
     "data": {
      "text/plain": [
       "Date         0\n",
       "Open         0\n",
       "High         0\n",
       "Low          0\n",
       "Close        0\n",
       "Adj Close    0\n",
       "Volume       0\n",
       "dtype: int64"
      ]
     },
     "execution_count": 4,
     "metadata": {},
     "output_type": "execute_result"
    }
   ],
   "source": [
    "df.isnull().sum()"
   ]
  },
  {
   "cell_type": "markdown",
   "id": "a535a4eb",
   "metadata": {},
   "source": [
    "### Data exploration\n",
    "Let's first have a descriptive exploration on our data."
   ]
  },
  {
   "cell_type": "code",
   "execution_count": 5,
   "id": "d4e86480",
   "metadata": {
    "scrolled": false
   },
   "outputs": [
    {
     "data": {
      "text/html": [
       "<div>\n",
       "<style scoped>\n",
       "    .dataframe tbody tr th:only-of-type {\n",
       "        vertical-align: middle;\n",
       "    }\n",
       "\n",
       "    .dataframe tbody tr th {\n",
       "        vertical-align: top;\n",
       "    }\n",
       "\n",
       "    .dataframe thead th {\n",
       "        text-align: right;\n",
       "    }\n",
       "</style>\n",
       "<table border=\"1\" class=\"dataframe\">\n",
       "  <thead>\n",
       "    <tr style=\"text-align: right;\">\n",
       "      <th></th>\n",
       "      <th>Open</th>\n",
       "      <th>High</th>\n",
       "      <th>Low</th>\n",
       "      <th>Close</th>\n",
       "      <th>Adj Close</th>\n",
       "      <th>Volume</th>\n",
       "    </tr>\n",
       "  </thead>\n",
       "  <tbody>\n",
       "    <tr>\n",
       "      <th>count</th>\n",
       "      <td>1512.000000</td>\n",
       "      <td>1512.000000</td>\n",
       "      <td>1512.000000</td>\n",
       "      <td>1512.000000</td>\n",
       "      <td>1512.000000</td>\n",
       "      <td>1.512000e+03</td>\n",
       "    </tr>\n",
       "    <tr>\n",
       "      <th>mean</th>\n",
       "      <td>18101.446503</td>\n",
       "      <td>18597.082311</td>\n",
       "      <td>17554.108072</td>\n",
       "      <td>18124.472277</td>\n",
       "      <td>18124.472277</td>\n",
       "      <td>2.518535e+10</td>\n",
       "    </tr>\n",
       "    <tr>\n",
       "      <th>std</th>\n",
       "      <td>17472.373752</td>\n",
       "      <td>17956.076011</td>\n",
       "      <td>16915.371732</td>\n",
       "      <td>17480.093327</td>\n",
       "      <td>17480.093327</td>\n",
       "      <td>2.102946e+10</td>\n",
       "    </tr>\n",
       "    <tr>\n",
       "      <th>min</th>\n",
       "      <td>3236.274658</td>\n",
       "      <td>3275.377930</td>\n",
       "      <td>3191.303467</td>\n",
       "      <td>3236.761719</td>\n",
       "      <td>3236.761719</td>\n",
       "      <td>2.923670e+09</td>\n",
       "    </tr>\n",
       "    <tr>\n",
       "      <th>25%</th>\n",
       "      <td>7177.894897</td>\n",
       "      <td>7320.137085</td>\n",
       "      <td>6936.347412</td>\n",
       "      <td>7173.735962</td>\n",
       "      <td>7173.735962</td>\n",
       "      <td>7.700077e+09</td>\n",
       "    </tr>\n",
       "    <tr>\n",
       "      <th>50%</th>\n",
       "      <td>9511.579102</td>\n",
       "      <td>9682.253907</td>\n",
       "      <td>9302.726074</td>\n",
       "      <td>9514.672851</td>\n",
       "      <td>9514.672851</td>\n",
       "      <td>2.113411e+10</td>\n",
       "    </tr>\n",
       "    <tr>\n",
       "      <th>75%</th>\n",
       "      <td>20052.415039</td>\n",
       "      <td>21903.831543</td>\n",
       "      <td>19782.406250</td>\n",
       "      <td>21683.718750</td>\n",
       "      <td>21683.718750</td>\n",
       "      <td>3.579627e+10</td>\n",
       "    </tr>\n",
       "    <tr>\n",
       "      <th>max</th>\n",
       "      <td>67549.734375</td>\n",
       "      <td>68789.625000</td>\n",
       "      <td>66382.062500</td>\n",
       "      <td>67566.828125</td>\n",
       "      <td>67566.828125</td>\n",
       "      <td>3.509679e+11</td>\n",
       "    </tr>\n",
       "  </tbody>\n",
       "</table>\n",
       "</div>"
      ],
      "text/plain": [
       "               Open          High           Low         Close     Adj Close  \\\n",
       "count   1512.000000   1512.000000   1512.000000   1512.000000   1512.000000   \n",
       "mean   18101.446503  18597.082311  17554.108072  18124.472277  18124.472277   \n",
       "std    17472.373752  17956.076011  16915.371732  17480.093327  17480.093327   \n",
       "min     3236.274658   3275.377930   3191.303467   3236.761719   3236.761719   \n",
       "25%     7177.894897   7320.137085   6936.347412   7173.735962   7173.735962   \n",
       "50%     9511.579102   9682.253907   9302.726074   9514.672851   9514.672851   \n",
       "75%    20052.415039  21903.831543  19782.406250  21683.718750  21683.718750   \n",
       "max    67549.734375  68789.625000  66382.062500  67566.828125  67566.828125   \n",
       "\n",
       "             Volume  \n",
       "count  1.512000e+03  \n",
       "mean   2.518535e+10  \n",
       "std    2.102946e+10  \n",
       "min    2.923670e+09  \n",
       "25%    7.700077e+09  \n",
       "50%    2.113411e+10  \n",
       "75%    3.579627e+10  \n",
       "max    3.509679e+11  "
      ]
     },
     "execution_count": 5,
     "metadata": {},
     "output_type": "execute_result"
    }
   ],
   "source": [
    "# summarize the data\n",
    "df.describe()"
   ]
  },
  {
   "cell_type": "markdown",
   "id": "8b8209b9",
   "metadata": {},
   "source": [
    "Let's select some of these features to explore more, as Close and Adj Close in our dataset are the same 1:1"
   ]
  },
  {
   "cell_type": "code",
   "execution_count": 23,
   "id": "fa169c71",
   "metadata": {},
   "outputs": [
    {
     "data": {
      "text/html": [
       "<div>\n",
       "<style scoped>\n",
       "    .dataframe tbody tr th:only-of-type {\n",
       "        vertical-align: middle;\n",
       "    }\n",
       "\n",
       "    .dataframe tbody tr th {\n",
       "        vertical-align: top;\n",
       "    }\n",
       "\n",
       "    .dataframe thead th {\n",
       "        text-align: right;\n",
       "    }\n",
       "</style>\n",
       "<table border=\"1\" class=\"dataframe\">\n",
       "  <thead>\n",
       "    <tr style=\"text-align: right;\">\n",
       "      <th></th>\n",
       "      <th>Open</th>\n",
       "      <th>High</th>\n",
       "      <th>Low</th>\n",
       "      <th>Close</th>\n",
       "      <th>Volume</th>\n",
       "    </tr>\n",
       "  </thead>\n",
       "  <tbody>\n",
       "    <tr>\n",
       "      <th>0</th>\n",
       "      <td>7446.830078</td>\n",
       "      <td>7446.830078</td>\n",
       "      <td>7101.520020</td>\n",
       "      <td>7143.580078</td>\n",
       "      <td>3226249984</td>\n",
       "    </tr>\n",
       "    <tr>\n",
       "      <th>1</th>\n",
       "      <td>7173.729980</td>\n",
       "      <td>7312.000000</td>\n",
       "      <td>6436.870117</td>\n",
       "      <td>6618.140137</td>\n",
       "      <td>5208249856</td>\n",
       "    </tr>\n",
       "    <tr>\n",
       "      <th>2</th>\n",
       "      <td>6618.609863</td>\n",
       "      <td>6873.149902</td>\n",
       "      <td>6204.220215</td>\n",
       "      <td>6357.600098</td>\n",
       "      <td>4908680192</td>\n",
       "    </tr>\n",
       "    <tr>\n",
       "      <th>3</th>\n",
       "      <td>6295.450195</td>\n",
       "      <td>6625.049805</td>\n",
       "      <td>5519.009766</td>\n",
       "      <td>5950.069824</td>\n",
       "      <td>8957349888</td>\n",
       "    </tr>\n",
       "    <tr>\n",
       "      <th>4</th>\n",
       "      <td>5938.250000</td>\n",
       "      <td>6811.189941</td>\n",
       "      <td>5844.290039</td>\n",
       "      <td>6559.490234</td>\n",
       "      <td>6263249920</td>\n",
       "    </tr>\n",
       "    <tr>\n",
       "      <th>5</th>\n",
       "      <td>6561.479980</td>\n",
       "      <td>6764.979980</td>\n",
       "      <td>6461.750000</td>\n",
       "      <td>6635.750000</td>\n",
       "      <td>3197110016</td>\n",
       "    </tr>\n",
       "    <tr>\n",
       "      <th>6</th>\n",
       "      <td>6634.759766</td>\n",
       "      <td>7342.250000</td>\n",
       "      <td>6634.759766</td>\n",
       "      <td>7315.540039</td>\n",
       "      <td>4200880128</td>\n",
       "    </tr>\n",
       "    <tr>\n",
       "      <th>7</th>\n",
       "      <td>7323.240234</td>\n",
       "      <td>7967.379883</td>\n",
       "      <td>7176.580078</td>\n",
       "      <td>7871.689941</td>\n",
       "      <td>5123809792</td>\n",
       "    </tr>\n",
       "  </tbody>\n",
       "</table>\n",
       "</div>"
      ],
      "text/plain": [
       "          Open         High          Low        Close      Volume\n",
       "0  7446.830078  7446.830078  7101.520020  7143.580078  3226249984\n",
       "1  7173.729980  7312.000000  6436.870117  6618.140137  5208249856\n",
       "2  6618.609863  6873.149902  6204.220215  6357.600098  4908680192\n",
       "3  6295.450195  6625.049805  5519.009766  5950.069824  8957349888\n",
       "4  5938.250000  6811.189941  5844.290039  6559.490234  6263249920\n",
       "5  6561.479980  6764.979980  6461.750000  6635.750000  3197110016\n",
       "6  6634.759766  7342.250000  6634.759766  7315.540039  4200880128\n",
       "7  7323.240234  7967.379883  7176.580078  7871.689941  5123809792"
      ]
     },
     "execution_count": 23,
     "metadata": {},
     "output_type": "execute_result"
    }
   ],
   "source": [
    "cdf = df[['Open','High','Low','Close','Volume']]\n",
    "cdf.head(8)"
   ]
  },
  {
   "cell_type": "markdown",
   "id": "fd4c7db3",
   "metadata": {},
   "source": [
    "Let's plot each of these features:"
   ]
  },
  {
   "cell_type": "code",
   "execution_count": 28,
   "id": "874dbf80",
   "metadata": {},
   "outputs": [
    {
     "data": {
      "image/png": "[encoded data removed]",
      "text/plain": [
       "<Figure size 432x288 with 6 Axes>"
      ]
     },
     "metadata": {
      "needs_background": "light"
     },
     "output_type": "display_data"
    }
   ],
   "source": [
    "viz = cdf[['Open','High','Low','Close','Volume']]\n",
    "viz.hist()\n",
    "plt.show()"
   ]
  },
  {
   "cell_type": "markdown",
   "id": "42dcb7fc",
   "metadata": {},
   "source": [
    "Now, let's plot each of them against the Close, to see how linear their relationship is:"
   ]
  },
  {
   "cell_type": "code",
   "execution_count": 8,
   "id": "c528e6de",
   "metadata": {},
   "outputs": [
    {
     "data": {
      "image/png": "[encoded data removed]",
      "text/plain": [
       "<Figure size 432x288 with 1 Axes>"
      ]
     },
     "metadata": {
      "needs_background": "light"
     },
     "output_type": "display_data"
    }
   ],
   "source": [
    "plt.scatter(cdf.Open, cdf.Close, color='blue')\n",
    "plt.xlabel('Open')\n",
    "plt.ylabel('Close')\n",
    "plt.show()"
   ]
  },
  {
   "cell_type": "code",
   "execution_count": 9,
   "id": "82917c5a",
   "metadata": {
    "scrolled": true
   },
   "outputs": [
    {
     "data": {
      "image/png": "[encoded data removed]",
      "text/plain": [
       "<Figure size 432x288 with 1 Axes>"
      ]
     },
     "metadata": {
      "needs_background": "light"
     },
     "output_type": "display_data"
    }
   ],
   "source": [
    "plt.scatter(cdf.High, cdf.Close, color='blue')\n",
    "plt.xlabel('High')\n",
    "plt.ylabel('Close')\n",
    "plt.show()"
   ]
  },
  {
   "cell_type": "code",
   "execution_count": 10,
   "id": "4d7ce785",
   "metadata": {},
   "outputs": [
    {
     "data": {
      "image/png": "[encoded data removed]",
      "text/plain": [
       "<Figure size 432x288 with 1 Axes>"
      ]
     },
     "metadata": {
      "needs_background": "light"
     },
     "output_type": "display_data"
    }
   ],
   "source": [
    "plt.scatter(cdf.Low, cdf.Close, color='blue')\n",
    "plt.xlabel('Low')\n",
    "plt.ylabel('Close')\n",
    "plt.show()"
   ]
  },
  {
   "cell_type": "code",
   "execution_count": 29,
   "id": "ec886c09",
   "metadata": {},
   "outputs": [
    {
     "data": {
      "image/png": "[encoded data removed]",
      "text/plain": [
       "<Figure size 432x288 with 1 Axes>"
      ]
     },
     "metadata": {
      "needs_background": "light"
     },
     "output_type": "display_data"
    }
   ],
   "source": [
    "plt.scatter(cdf.Volume, cdf.Close, color='blue')\n",
    "plt.xlabel('Volume')\n",
    "plt.ylabel('Close')\n",
    "plt.show()"
   ]
  },
  {
   "cell_type": "code",
   "execution_count": 38,
   "id": "31765089",
   "metadata": {
    "scrolled": false
   },
   "outputs": [
    {
     "data": {
      "text/plain": [
       "<AxesSubplot:>"
      ]
     },
     "execution_count": 38,
     "metadata": {},
     "output_type": "execute_result"
    },
    {
     "data": {
      "image/png": "[encoded data removed]",
      "text/plain": [
       "<Figure size 432x288 with 1 Axes>"
      ]
     },
     "metadata": {
      "needs_background": "light"
     },
     "output_type": "display_data"
    }
   ],
   "source": [
    "df['Close'].plot()"
   ]
  },
  {
   "cell_type": "markdown",
   "id": "88906829",
   "metadata": {},
   "source": [
    "### Filter Method\n",
    "Here we will first plot the Pearson correlation heatmap and see the correlation of independent variables with the output variable Close. The correlation coefficient has values between -1 to 1\n",
    "* A value closer to 0 implies weaker correlation (exact 0 implying no correlation)\n",
    "* A value closer to 1 implies stronger positive correlation\n",
    "* A value closer to -1 implies stronger negative correlation"
   ]
  },
  {
   "cell_type": "code",
   "execution_count": 36,
   "id": "df97036a",
   "metadata": {
    "scrolled": false
   },
   "outputs": [
    {
     "data": {
      "image/png": "[encoded data removed]",
      "text/plain": [
       "<Figure size 576x432 with 2 Axes>"
      ]
     },
     "metadata": {
      "needs_background": "light"
     },
     "output_type": "display_data"
    }
   ],
   "source": [
    "#Using Pearson Correlation\n",
    "plt.figure(figsize=(8,6))\n",
    "cor = df.corr()\n",
    "sns.heatmap(cor, annot=True, cmap=plt.cm.Reds)\n",
    "plt.show()"
   ]
  },
  {
   "cell_type": "code",
   "execution_count": 40,
   "id": "78c3f85c",
   "metadata": {},
   "outputs": [
    {
     "data": {
      "text/plain": [
       "Open         0.998331\n",
       "High         0.999278\n",
       "Low          0.999135\n",
       "Close        1.000000\n",
       "Adj Close    1.000000\n",
       "Volume       0.607153\n",
       "Name: Close, dtype: float64"
      ]
     },
     "execution_count": 40,
     "metadata": {},
     "output_type": "execute_result"
    }
   ],
   "source": [
    "#Correlation with output variable\n",
    "cor_target = abs(cor[\"Close\"])\n",
    "#Selecting highly correlated features\n",
    "relevant_features = cor_target[cor_target>0.5]\n",
    "relevant_features"
   ]
  },
  {
   "cell_type": "markdown",
   "id": "92b06718",
   "metadata": {},
   "source": [
    "### Creating train and test dataset\n",
    "Let's split our dataset into train and test sets. 80% of the entire dataset will be used for training and 20% for the testing. We create a mask to select random rows using np.random.rand() function:"
   ]
  },
  {
   "cell_type": "code",
   "execution_count": 12,
   "id": "e3180f93",
   "metadata": {},
   "outputs": [],
   "source": [
    "msk = np.random.rand(len(df)) < 0.8\n",
    "train = cdf[msk]\n",
    "test = cdf[~msk]"
   ]
  },
  {
   "cell_type": "markdown",
   "id": "20c0bcdb",
   "metadata": {},
   "source": [
    "### Multiple Linear Regression Model"
   ]
  },
  {
   "cell_type": "code",
   "execution_count": 14,
   "id": "17c12989",
   "metadata": {},
   "outputs": [
    {
     "name": "stdout",
     "output_type": "stream",
     "text": [
      "Coefficients:  [[-0.55945723  0.91500856  0.63877904]]\n",
      "Intercept:  [19.38024435]\n"
     ]
    }
   ],
   "source": [
    "from sklearn import linear_model\n",
    "from sklearn.metrics import mean_squared_error,r2_score\n",
    "\n",
    "regr = linear_model.LinearRegression()\n",
    "x = np.asanyarray(train[['Open','High','Low']])\n",
    "y = np.asanyarray(train[['Close']])\n",
    "regr.fit(x,y) # fit linear model\n",
    "\n",
    "# The coefficients\n",
    "print('Coefficients: ', regr.coef_)\n",
    "# The intercept\n",
    "print('Intercept: ', regr.intercept_)"
   ]
  },
  {
   "cell_type": "markdown",
   "id": "19604923",
   "metadata": {},
   "source": [
    "### Prediction"
   ]
  },
  {
   "cell_type": "markdown",
   "id": "aa8a4c1f",
   "metadata": {},
   "source": [
    "Residual sum of squares: $$RSS = \\sum_{i=1}^{n} (y-\\hat{y})^2$$"
   ]
  },
  {
   "cell_type": "code",
   "execution_count": 16,
   "id": "4fc4ca8a",
   "metadata": {},
   "outputs": [
    {
     "name": "stdout",
     "output_type": "stream",
     "text": [
      "Residual sum of squares:  177106.13335527442\n",
      "Variance score:  0.9994531775767144\n",
      "\n",
      "Root mean squared error:  177106.13335527442\n",
      "R2 score:  0.9994531775767144\n"
     ]
    },
    {
     "name": "stderr",
     "output_type": "stream",
     "text": [
      "C:\\Users\\Johnny\\anaconda3\\lib\\site-packages\\sklearn\\base.py:438: UserWarning: X has feature names, but LinearRegression was fitted without feature names\n",
      "  warnings.warn(\n"
     ]
    }
   ],
   "source": [
    "y_predicted = regr.predict(test[['Open','High','Low']])\n",
    "x = np.asanyarray(test[['Open','High','Low']])\n",
    "y = np.asanyarray(test[['Close']])\n",
    "\n",
    "# Residual Sum of Squares\n",
    "print(\"Residual sum of squares: \" , np.mean((y_predicted - y) ** 2))\n",
    "# Explained variance score: 1 is perfect prediction\n",
    "print(\"Variance score: \", regr.score(x,y))\n",
    "\n",
    "print()\n",
    "# Root Mean Squared Error\n",
    "rmse = mean_squared_error(y, y_predicted)\n",
    "r2 = r2_score(y, y_predicted)\n",
    "print('Root mean squared error: ', rmse)\n",
    "print('R2 score: ', r2)"
   ]
  },
  {
   "cell_type": "markdown",
   "id": "91c1de69",
   "metadata": {},
   "source": [
    "$\\texttt{explainedVariance}(y, \\hat{y}) = 1 - \\frac{Var{ y - \\hat{y}}}{Var{y}}$\\\n",
    "The best possible score is 1.0, the lower values are worse."
   ]
  },
  {
   "cell_type": "markdown",
   "id": "245949aa",
   "metadata": {},
   "source": [
    "\n",
    "### Comparing Predicted vs True Close Value - Multiple Regression Model"
   ]
  },
  {
   "cell_type": "code",
   "execution_count": 17,
   "id": "ef7c8195",
   "metadata": {},
   "outputs": [
    {
     "data": {
      "image/png": "[encoded data removed]",
      "text/plain": [
       "<Figure size 432x288 with 1 Axes>"
      ]
     },
     "metadata": {
      "needs_background": "light"
     },
     "output_type": "display_data"
    }
   ],
   "source": [
    "# Predicted vs Close value\n",
    "plt.plot(y, label='True Value')\n",
    "plt.plot(y_predicted, label='Predicted Value')\n",
    "plt.title('Prediction by Multiple Linear Regression')\n",
    "plt.xlabel('Time Scale')\n",
    "plt.ylabel('Price in USD')\n",
    "plt.legend()\n",
    "plt.show()"
   ]
  }
 ],
 "metadata": {
  "kernelspec": {
   "display_name": "Python 3 (ipykernel)",
   "language": "python",
   "name": "python3"
  },
  "language_info": {
   "codemirror_mode": {
    "name": "ipython",
    "version": 3
   },
   "file_extension": ".py",
   "mimetype": "text/x-python",
   "name": "python",
   "nbconvert_exporter": "python",
   "pygments_lexer": "ipython3",
   "version": "3.8.12"
  }
 },
 "nbformat": 4,
 "nbformat_minor": 5
}
